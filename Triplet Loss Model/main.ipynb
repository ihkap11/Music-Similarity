{
 "cells": [
  {
   "cell_type": "markdown",
   "metadata": {},
   "source": [
    "## TRIPLET LOSS CNN IMPLEMENTATION"
   ]
  },
  {
   "cell_type": "code",
   "execution_count": 1,
   "metadata": {},
   "outputs": [
    {
     "name": "stderr",
     "output_type": "stream",
     "text": [
      "Using TensorFlow backend.\n"
     ]
    }
   ],
   "source": [
    "from Model import triplet_model, embed_model\n",
    "from utils import genre_count_dataset, img_from_ID, images_from_ids\n",
    "import pandas as pd\n",
    "import numpy as np\n",
    "import random\n",
    "from tqdm import tqdm\n",
    "import operator\n",
    "from sklearn.model_selection import train_test_split"
   ]
  },
  {
   "cell_type": "markdown",
   "metadata": {},
   "source": [
    "### Loading data.csv\n",
    "Contains\n",
    "* Id\n",
    "* Genre\n",
    "* Song Name\n",
    "* Spectrogram(path)"
   ]
  },
  {
   "cell_type": "code",
   "execution_count": 2,
   "metadata": {},
   "outputs": [],
   "source": [
    "data = pd.read_csv(\"data.csv\")"
   ]
  },
  {
   "cell_type": "code",
   "execution_count": 3,
   "metadata": {},
   "outputs": [
    {
     "name": "stdout",
     "output_type": "stream",
     "text": [
      "DATASET SHAPE (3208, 4)\n"
     ]
    },
    {
     "data": {
      "text/html": [
       "<div>\n",
       "<style scoped>\n",
       "    .dataframe tbody tr th:only-of-type {\n",
       "        vertical-align: middle;\n",
       "    }\n",
       "\n",
       "    .dataframe tbody tr th {\n",
       "        vertical-align: top;\n",
       "    }\n",
       "\n",
       "    .dataframe thead th {\n",
       "        text-align: right;\n",
       "    }\n",
       "</style>\n",
       "<table border=\"1\" class=\"dataframe\">\n",
       "  <thead>\n",
       "    <tr style=\"text-align: right;\">\n",
       "      <th></th>\n",
       "      <th>Id</th>\n",
       "      <th>Genre</th>\n",
       "      <th>Song Name</th>\n",
       "      <th>Spectrogram</th>\n",
       "    </tr>\n",
       "  </thead>\n",
       "  <tbody>\n",
       "    <tr>\n",
       "      <th>0</th>\n",
       "      <td>1</td>\n",
       "      <td>Classical</td>\n",
       "      <td>Beethoven-Symphony 9</td>\n",
       "      <td>Spectrograms/Classical/Beethoven-Symphony 9/Be...</td>\n",
       "    </tr>\n",
       "    <tr>\n",
       "      <th>1</th>\n",
       "      <td>2</td>\n",
       "      <td>Classical</td>\n",
       "      <td>Beethoven-Symphony 9</td>\n",
       "      <td>Spectrograms/Classical/Beethoven-Symphony 9/Be...</td>\n",
       "    </tr>\n",
       "    <tr>\n",
       "      <th>2</th>\n",
       "      <td>3</td>\n",
       "      <td>Classical</td>\n",
       "      <td>Beethoven-Symphony 9</td>\n",
       "      <td>Spectrograms/Classical/Beethoven-Symphony 9/Be...</td>\n",
       "    </tr>\n",
       "    <tr>\n",
       "      <th>3</th>\n",
       "      <td>4</td>\n",
       "      <td>Classical</td>\n",
       "      <td>Beethoven-Symphony 9</td>\n",
       "      <td>Spectrograms/Classical/Beethoven-Symphony 9/Be...</td>\n",
       "    </tr>\n",
       "    <tr>\n",
       "      <th>4</th>\n",
       "      <td>5</td>\n",
       "      <td>Classical</td>\n",
       "      <td>Beethoven-Symphony 9</td>\n",
       "      <td>Spectrograms/Classical/Beethoven-Symphony 9/Be...</td>\n",
       "    </tr>\n",
       "  </tbody>\n",
       "</table>\n",
       "</div>"
      ],
      "text/plain": [
       "   Id      Genre             Song Name  \\\n",
       "0   1  Classical  Beethoven-Symphony 9   \n",
       "1   2  Classical  Beethoven-Symphony 9   \n",
       "2   3  Classical  Beethoven-Symphony 9   \n",
       "3   4  Classical  Beethoven-Symphony 9   \n",
       "4   5  Classical  Beethoven-Symphony 9   \n",
       "\n",
       "                                         Spectrogram  \n",
       "0  Spectrograms/Classical/Beethoven-Symphony 9/Be...  \n",
       "1  Spectrograms/Classical/Beethoven-Symphony 9/Be...  \n",
       "2  Spectrograms/Classical/Beethoven-Symphony 9/Be...  \n",
       "3  Spectrograms/Classical/Beethoven-Symphony 9/Be...  \n",
       "4  Spectrograms/Classical/Beethoven-Symphony 9/Be...  "
      ]
     },
     "execution_count": 3,
     "metadata": {},
     "output_type": "execute_result"
    }
   ],
   "source": [
    "print(\"DATASET SHAPE\",data.shape)\n",
    "data.head()"
   ]
  },
  {
   "cell_type": "code",
   "execution_count": 4,
   "metadata": {},
   "outputs": [
    {
     "name": "stdout",
     "output_type": "stream",
     "text": [
      "DATASET GENRE COMPOSITION\n",
      "\n",
      "Classical 595\n",
      "Hip-Hop 573\n",
      "Metal 643\n",
      "Rock 469\n",
      "Pop 462\n",
      "Country 466\n"
     ]
    }
   ],
   "source": [
    "print(\"DATASET GENRE COMPOSITION\\n\")\n",
    "cl, h ,m ,r ,p ,co = genre_count_dataset(data, data.shape[0])"
   ]
  },
  {
   "cell_type": "markdown",
   "metadata": {},
   "source": [
    "### CALLING EMBEDDING MODEL\n",
    "* embed_model gives 128 embeddings corresponding to a spectrogram image (128,1402,1)"
   ]
  },
  {
   "cell_type": "code",
   "execution_count": 5,
   "metadata": {},
   "outputs": [],
   "source": [
    "submodel = embed_model()"
   ]
  },
  {
   "cell_type": "code",
   "execution_count": 6,
   "metadata": {},
   "outputs": [
    {
     "name": "stdout",
     "output_type": "stream",
     "text": [
      "_________________________________________________________________\n",
      "Layer (type)                 Output Shape              Param #   \n",
      "=================================================================\n",
      "input_1 (InputLayer)         (None, 128, 1402, 1)      0         \n",
      "_________________________________________________________________\n",
      "zero_padding2d_1 (ZeroPaddin (None, 134, 1408, 1)      0         \n",
      "_________________________________________________________________\n",
      "conv1 (Conv2D)               (None, 64, 701, 64)       3200      \n",
      "_________________________________________________________________\n",
      "activation_1 (Activation)    (None, 64, 701, 64)       0         \n",
      "_________________________________________________________________\n",
      "zero_padding2d_2 (ZeroPaddin (None, 66, 703, 64)       0         \n",
      "_________________________________________________________________\n",
      "max_pooling2d_1 (MaxPooling2 (None, 32, 351, 64)       0         \n",
      "_________________________________________________________________\n",
      "lambda_1 (Lambda)            (None, 32, 351, 64)       0         \n",
      "_________________________________________________________________\n",
      "conv2 (Conv2D)               (None, 32, 351, 64)       4160      \n",
      "_________________________________________________________________\n",
      "activation_2 (Activation)    (None, 32, 351, 64)       0         \n",
      "_________________________________________________________________\n",
      "zero_padding2d_3 (ZeroPaddin (None, 34, 353, 64)       0         \n",
      "_________________________________________________________________\n",
      "conv3 (Conv2D)               (None, 32, 351, 192)      110784    \n",
      "_________________________________________________________________\n",
      "activation_3 (Activation)    (None, 32, 351, 192)      0         \n",
      "_________________________________________________________________\n",
      "lambda_2 (Lambda)            (None, 32, 351, 192)      0         \n",
      "_________________________________________________________________\n",
      "zero_padding2d_4 (ZeroPaddin (None, 34, 353, 192)      0         \n",
      "_________________________________________________________________\n",
      "max_pooling2d_2 (MaxPooling2 (None, 16, 176, 192)      0         \n",
      "_________________________________________________________________\n",
      "conv2d_1 (Conv2D)            (None, 16, 176, 96)       18528     \n",
      "_________________________________________________________________\n",
      "activation_4 (Activation)    (None, 16, 176, 96)       0         \n",
      "_________________________________________________________________\n",
      "zero_padding2d_5 (ZeroPaddin (None, 18, 178, 96)       0         \n",
      "_________________________________________________________________\n",
      "max_pooling2d_3 (MaxPooling2 (None, 8, 88, 96)         0         \n",
      "_________________________________________________________________\n",
      "conv2d_2 (Conv2D)            (None, 8, 88, 96)         9312      \n",
      "_________________________________________________________________\n",
      "activation_5 (Activation)    (None, 8, 88, 96)         0         \n",
      "_________________________________________________________________\n",
      "zero_padding2d_6 (ZeroPaddin (None, 10, 90, 96)        0         \n",
      "_________________________________________________________________\n",
      "max_pooling2d_4 (MaxPooling2 (None, 4, 44, 96)         0         \n",
      "_________________________________________________________________\n",
      "conv2d_3 (Conv2D)            (None, 2, 42, 128)        110720    \n",
      "_________________________________________________________________\n",
      "activation_6 (Activation)    (None, 2, 42, 128)        0         \n",
      "_________________________________________________________________\n",
      "zero_padding2d_7 (ZeroPaddin (None, 4, 44, 128)        0         \n",
      "_________________________________________________________________\n",
      "max_pooling2d_5 (MaxPooling2 (None, 1, 21, 128)        0         \n",
      "_________________________________________________________________\n",
      "conv2d_4 (Conv2D)            (None, 1, 21, 16)         2064      \n",
      "_________________________________________________________________\n",
      "activation_7 (Activation)    (None, 1, 21, 16)         0         \n",
      "_________________________________________________________________\n",
      "flatten_1 (Flatten)          (None, 336)               0         \n",
      "_________________________________________________________________\n",
      "fc1 (Dense)                  (None, 512)               172544    \n",
      "_________________________________________________________________\n",
      "fc2 (Dense)                  (None, 128)               65664     \n",
      "_________________________________________________________________\n",
      "l2_norm (Lambda)             (None, 128)               0         \n",
      "=================================================================\n",
      "Total params: 496,976\n",
      "Trainable params: 496,976\n",
      "Non-trainable params: 0\n",
      "_________________________________________________________________\n"
     ]
    }
   ],
   "source": [
    "submodel.summary()"
   ]
  },
  {
   "cell_type": "markdown",
   "metadata": {},
   "source": [
    "### CALL TRIPLET MODEL\n",
    "* Gets you triplet model\n",
    "* implements triplet loss\n",
    "* metric accuracy for custom accuracy check"
   ]
  },
  {
   "cell_type": "code",
   "execution_count": 7,
   "metadata": {},
   "outputs": [
    {
     "name": "stderr",
     "output_type": "stream",
     "text": [
      "C:\\Users\\spari\\Projects\\DM_Pro\\DataMonk--Music-Similarity-master\\Triplet Loss Model\\Model.py:143: UserWarning: The `merge` function is deprecated and will be removed after 08/2017. Use instead layers from `keras.layers.merge`, e.g. `add`, `concatenate`, etc.\n",
      "  name='loss', output_shape=(1, ))\n",
      "C:\\Users\\spari\\Anaconda3\\envs\\tensorflow-gpu\\lib\\site-packages\\keras\\legacy\\layers.py:465: UserWarning: The `Merge` layer is deprecated and will be removed after 08/2017. Use instead layers from `keras.layers.merge`, e.g. `add`, `concatenate`, etc.\n",
      "  name=name)\n",
      "C:\\Users\\spari\\Projects\\DM_Pro\\DataMonk--Music-Similarity-master\\Triplet Loss Model\\Model.py:145: UserWarning: Update your `Model` call to the Keras 2 API: `Model(inputs=[<tf.Tenso..., outputs=Tensor(\"lo...)`\n",
      "  model = Model(input=[anchor_input, positive_input, negative_input], output=loss)\n"
     ]
    }
   ],
   "source": [
    "triplet_model = triplet_model()"
   ]
  },
  {
   "cell_type": "code",
   "execution_count": 8,
   "metadata": {},
   "outputs": [
    {
     "name": "stdout",
     "output_type": "stream",
     "text": [
      "__________________________________________________________________________________________________\n",
      "Layer (type)                    Output Shape         Param #     Connected to                     \n",
      "==================================================================================================\n",
      "anchor_input (InputLayer)       (None, 128, 1402, 1) 0                                            \n",
      "__________________________________________________________________________________________________\n",
      "positive_input (InputLayer)     (None, 128, 1402, 1) 0                                            \n",
      "__________________________________________________________________________________________________\n",
      "negative_input (InputLayer)     (None, 128, 1402, 1) 0                                            \n",
      "__________________________________________________________________________________________________\n",
      "model_2 (Model)                 (None, 128)          496976      anchor_input[0][0]               \n",
      "                                                                 positive_input[0][0]             \n",
      "                                                                 negative_input[0][0]             \n",
      "__________________________________________________________________________________________________\n",
      "loss (Merge)                    (None, 1)            0           model_2[1][0]                    \n",
      "                                                                 model_2[2][0]                    \n",
      "                                                                 model_2[3][0]                    \n",
      "==================================================================================================\n",
      "Total params: 496,976\n",
      "Trainable params: 496,976\n",
      "Non-trainable params: 0\n",
      "__________________________________________________________________________________________________\n"
     ]
    }
   ],
   "source": [
    "triplet_model.summary()"
   ]
  },
  {
   "cell_type": "markdown",
   "metadata": {},
   "source": [
    "### GENERATING TRIPLETS\n",
    "Concept:\n",
    "* Pick n (32) random anchor points (ids from database)\n",
    "* Make a remaining list containing ids not included by anchors\n",
    "* For each anchor find most optimal semi-hard positives and negatives.\n",
    "\n",
    "\n",
    "Concept for chosing triplets:\n",
    "* Choose a positive from same genre but farthest in distance (embedding distance np.linalg.norm) to the anchor.\n",
    "* Choose a negative from differest genre but closest in distance to the anchor."
   ]
  },
  {
   "cell_type": "markdown",
   "metadata": {},
   "source": [
    "### GET IMAGES FROM ID (SPECTROGRAM PATH)"
   ]
  },
  {
   "cell_type": "code",
   "execution_count": 9,
   "metadata": {},
   "outputs": [
    {
     "name": "stdout",
     "output_type": "stream",
     "text": [
      "Images added to dataframe\n"
     ]
    }
   ],
   "source": [
    "data = images_from_ids(data)"
   ]
  },
  {
   "cell_type": "code",
   "execution_count": 10,
   "metadata": {},
   "outputs": [
    {
     "data": {
      "text/plain": [
       "(1, 128, 1402, 1)"
      ]
     },
     "execution_count": 10,
     "metadata": {},
     "output_type": "execute_result"
    }
   ],
   "source": [
    "data.Images[1].shape"
   ]
  },
  {
   "cell_type": "markdown",
   "metadata": {},
   "source": [
    "### PREDICTING EMBEDDINGS FOR EACH SONG ID \n",
    "* Predicting embeddings for each song ID takes alot of time\n",
    "* Storing it in temp_embed dictionary saves time "
   ]
  },
  {
   "cell_type": "code",
   "execution_count": 11,
   "metadata": {},
   "outputs": [],
   "source": [
    "temp_embed = {}\n",
    "for i in range(1, data.shape[0]+1):\n",
    "    img =  img_from_ID(data, i)\n",
    "    temp_embed[i] = submodel.predict_on_batch(img)  \n",
    "    "
   ]
  },
  {
   "cell_type": "code",
   "execution_count": 12,
   "metadata": {},
   "outputs": [
    {
     "data": {
      "text/plain": [
       "3208"
      ]
     },
     "execution_count": 12,
     "metadata": {},
     "output_type": "execute_result"
    }
   ],
   "source": [
    "len(temp_embed)"
   ]
  },
  {
   "cell_type": "markdown",
   "metadata": {},
   "source": [
    "### GENERATING TRIPLETS\n",
    "* Randomly picking anchor_batch (32) id's. \n",
    "* Marking list of positive distances (in same genre) and negative distances (not of same genre).\n",
    "* Looking for farthest positive distance for Positive and closest negative distance for Negative for each anchor point."
   ]
  },
  {
   "cell_type": "code",
   "execution_count": 13,
   "metadata": {},
   "outputs": [],
   "source": [
    "anchor_batch = 32\n",
    "def generate_triplets():  \n",
    "            import time\n",
    "            trip_ids = []\n",
    "            triplets  = []\n",
    "            \n",
    "            # id's \n",
    "            anchors = random.sample(list(range(1,data.shape[0]+1)), anchor_batch)\n",
    "            remaining = [i for i in range(1, data.shape[0]+1) if i not in anchors]\n",
    "            \n",
    "            start_time = time.time()\n",
    "#             for a in tqdm(anchors): \n",
    "            for a in tqdm(anchors):\n",
    "                pos_dict = {}\n",
    "                neg_dict = {}\n",
    "                \n",
    "                # got embeddings, genre of an id in anchor\n",
    "                a_embed =  temp_embed[a]            \n",
    "                a_genre = data.loc[a-1]['Genre']                \n",
    "                \n",
    "                for rem in remaining:\n",
    "             # iterating over remaining and checking for its genre, embed\n",
    "                    rem_embed = temp_embed[rem]\n",
    "                    rem_genre = data.loc[rem-1]['Genre']\n",
    "\n",
    "                    # distances\n",
    "                    if (a_genre == rem_genre):\n",
    "                        pos_dict[rem] = np.linalg.norm(rem_embed - a_embed)\n",
    "                    else:\n",
    "                        neg_dict[rem] = np.linalg.norm(rem_embed - a_embed)\n",
    "                        \n",
    "                # indices of min distance neg and max distance pos\n",
    "                pos_index = max(pos_dict.items(), key=operator.itemgetter(1))[0]\n",
    "                neg_index = min(neg_dict.items(), key=operator.itemgetter(1))[0]\n",
    "\n",
    "\n",
    "                # add images corresponding to indices \n",
    "                anchor_img = img_from_ID(data, a)\n",
    "                positive_img =img_from_ID(data, pos_index)\n",
    "                negative_img = img_from_ID(data, neg_index)\n",
    "                \n",
    "                trip_ids.append([a, pos_index, neg_index])\n",
    "                triplets.append([anchor_img, positive_img, negative_img])\n",
    "           \n",
    "            trip_ids = np.array(trip_ids)\n",
    "            triplets = np.array(triplets)\n",
    "            triplets = triplets.reshape(anchor_batch,3, 128, 1402,1)\n",
    "            \n",
    "            print(\"Execution Time: \", time.time()-start_time) \n",
    "            return trip_ids, triplets\n"
   ]
  },
  {
   "cell_type": "code",
   "execution_count": 14,
   "metadata": {
    "scrolled": false
   },
   "outputs": [
    {
     "name": "stderr",
     "output_type": "stream",
     "text": [
      "100%|██████████████████████████████████████████████████████████████████████████████████| 32/32 [00:13<00:00,  2.33it/s]\n"
     ]
    },
    {
     "name": "stdout",
     "output_type": "stream",
     "text": [
      "Execution Time:  13.764098882675171\n"
     ]
    }
   ],
   "source": [
    "tripvec = np.vectorize(generate_triplets, otypes=[np.ndarray])\n",
    "trip = tripvec()\n",
    "\n",
    "# # n,p = generate_triplets()"
   ]
  },
  {
   "cell_type": "code",
   "execution_count": 15,
   "metadata": {},
   "outputs": [],
   "source": [
    "# trip = np.array(trip)\n",
    "# treip_ids = np.array(treip_ids)"
   ]
  },
  {
   "cell_type": "code",
   "execution_count": 16,
   "metadata": {},
   "outputs": [],
   "source": [
    "# treip_ids.shape"
   ]
  },
  {
   "cell_type": "code",
   "execution_count": 17,
   "metadata": {},
   "outputs": [],
   "source": [
    "# trip.shape"
   ]
  },
  {
   "cell_type": "code",
   "execution_count": null,
   "metadata": {},
   "outputs": [],
   "source": []
  },
  {
   "cell_type": "markdown",
   "metadata": {},
   "source": [
    "#### Model fit and evaluate\n",
    "* Model.fit - fits the triplets into the model using accurcay (custom metric) and triplet loss\n",
    "\n",
    "* Model.evaluate - evaluates on the metrics the model was compiled in"
   ]
  },
  {
   "cell_type": "code",
   "execution_count": 52,
   "metadata": {},
   "outputs": [],
   "source": [
    "epochs = 5\n",
    "split = 2\n",
    "# increase to 32\n",
    "batch_size = 6\n",
    "# alpha = 0.1"
   ]
  },
  {
   "cell_type": "code",
   "execution_count": 53,
   "metadata": {},
   "outputs": [
    {
     "name": "stdout",
     "output_type": "stream",
     "text": [
      "Epoch 0 \n",
      "\n",
      "GENERATING TRIPLETS\n"
     ]
    },
    {
     "name": "stderr",
     "output_type": "stream",
     "text": [
      "100%|██████████████████████████████████████████████████████████████████████████████████| 32/32 [00:13<00:00,  2.29it/s]\n"
     ]
    },
    {
     "name": "stdout",
     "output_type": "stream",
     "text": [
      "Execution Time:  14.032296180725098\n",
      "MODEL FITTING\n",
      "Epoch 1/1\n",
      "32/32 [==============================] - ETA: 2s - loss: 0.600 - ETA: 1s - loss: 0.600 - ETA: 0s - loss: 0.600 - ETA: 0s - loss: 0.600 - ETA: 0s - loss: 0.600 - 1s 41ms/step - loss: 0.5750\n",
      "EVALUATION:\n",
      "32/32 [==============================] - 0s 9ms/step\n",
      "EVAL 3.19988155365\n",
      "1/1 [==============================] - 0s 12ms/step\n",
      "PRED [ 0.10000217]\n",
      "\n",
      "\n",
      "\n",
      "Epoch 1 \n",
      "\n",
      "GENERATING TRIPLETS\n"
     ]
    },
    {
     "name": "stderr",
     "output_type": "stream",
     "text": [
      "100%|██████████████████████████████████████████████████████████████████████████████████| 32/32 [00:14<00:00,  2.20it/s]\n"
     ]
    },
    {
     "name": "stdout",
     "output_type": "stream",
     "text": [
      "Execution Time:  14.604769229888916\n",
      "MODEL FITTING\n",
      "Epoch 1/1\n",
      "32/32 [==============================] - ETA: 0s - loss: 0.600 - ETA: 0s - loss: 0.600 - ETA: 0s - loss: 0.600 - ETA: 0s - loss: 0.600 - ETA: 0s - loss: 0.600 - 1s 28ms/step - loss: 0.5750\n",
      "\n",
      "\n",
      "\n",
      "Epoch 2 \n",
      "\n",
      "GENERATING TRIPLETS\n"
     ]
    },
    {
     "name": "stderr",
     "output_type": "stream",
     "text": [
      "100%|██████████████████████████████████████████████████████████████████████████████████| 32/32 [00:13<00:00,  2.31it/s]\n"
     ]
    },
    {
     "name": "stdout",
     "output_type": "stream",
     "text": [
      "Execution Time:  13.868413925170898\n",
      "MODEL FITTING\n",
      "Epoch 1/1\n",
      "32/32 [==============================] - ETA: 0s - loss: 0.600 - ETA: 0s - loss: 0.600 - ETA: 0s - loss: 0.600 - ETA: 0s - loss: 0.600 - ETA: 0s - loss: 0.600 - 1s 28ms/step - loss: 0.5750\n",
      "EVALUATION:\n",
      "32/32 [==============================] - 0s 9ms/step\n",
      "EVAL 3.19997692108\n",
      "1/1 [==============================] - 0s 11ms/step\n",
      "PRED [ 0.1000018]\n",
      "\n",
      "\n",
      "\n",
      "Epoch 3 \n",
      "\n",
      "GENERATING TRIPLETS\n"
     ]
    },
    {
     "name": "stderr",
     "output_type": "stream",
     "text": [
      "100%|██████████████████████████████████████████████████████████████████████████████████| 32/32 [00:14<00:00,  2.24it/s]\n"
     ]
    },
    {
     "name": "stdout",
     "output_type": "stream",
     "text": [
      "Execution Time:  14.345121145248413\n",
      "MODEL FITTING\n",
      "Epoch 1/1\n",
      "32/32 [==============================] - ETA: 0s - loss: 0.600 - ETA: 0s - loss: 0.600 - ETA: 0s - loss: 0.600 - ETA: 0s - loss: 0.600 - ETA: 0s - loss: 0.600 - 1s 28ms/step - loss: 0.5750\n",
      "\n",
      "\n",
      "\n",
      "Epoch 4 \n",
      "\n",
      "GENERATING TRIPLETS\n"
     ]
    },
    {
     "name": "stderr",
     "output_type": "stream",
     "text": [
      "100%|██████████████████████████████████████████████████████████████████████████████████| 32/32 [00:14<00:00,  2.29it/s]\n"
     ]
    },
    {
     "name": "stdout",
     "output_type": "stream",
     "text": [
      "Execution Time:  14.03913927078247\n",
      "MODEL FITTING\n",
      "Epoch 1/1\n",
      "32/32 [==============================] - ETA: 0s - loss: 0.600 - ETA: 0s - loss: 0.600 - ETA: 0s - loss: 0.600 - ETA: 0s - loss: 0.600 - ETA: 0s - loss: 0.600 - 1s 28ms/step - loss: 0.5750\n",
      "EVALUATION:\n",
      "32/32 [==============================] - 0s 9ms/step\n",
      "EVAL 3.19995260239\n",
      "1/1 [==============================] - 0s 12ms/step\n",
      "PRED [ 0.10000558]\n",
      "\n",
      "\n",
      "\n"
     ]
    }
   ],
   "source": [
    "# for epoch in tqdm(range(epochs)):\n",
    "for epoch in range(epochs):\n",
    "    print('Epoch %s \\n' % epoch)\n",
    "    \n",
    "    print(\"GENERATING TRIPLETS\")\n",
    "    tripvec = np.vectorize(generate_triplets, otypes=[np.ndarray])\n",
    "    trip_ids, trip = tripvec()\n",
    "    \n",
    "    anchors = trip[:,0]\n",
    "    positives = trip[:,1]\n",
    "    negatives = trip[:,2]\n",
    "    \n",
    "#     print(trip.shape)\n",
    "    print(\"MODEL FITTING\")\n",
    "    triplet_model.fit([anchors, positives, negatives], y = np.zeros(32), batch_size= batch_size, verbose = 1)\n",
    "    \n",
    "    \n",
    "    if(epoch% split==0):\n",
    "        print(\"EVALUATION:\")\n",
    "        eval = triplet_model.evaluate([anchors, positives, negatives], y = np.zeros(32), verbose=1)\n",
    "        print(\"EVAL\",eval)\n",
    "        \n",
    "        # picking random point and checking its prediction\n",
    "        pred = triplet_model.predict([anchors[9].reshape(1,128, 1402, 1), positives[9].reshape(1,128, 1402, 1), negatives[9].reshape(1,128, 1402, 1)], verbose=1)\n",
    "        print(\"PRED\",pred)\n",
    "  \n",
    "    print(\"\\n\\n\")"
   ]
  },
  {
   "cell_type": "markdown",
   "metadata": {},
   "source": [
    "# RUN TILL HERE FIRST!"
   ]
  },
  {
   "cell_type": "markdown",
   "metadata": {},
   "source": [
    "## CLUSTERING USING KNN  -- SUPERVISED (On Genre)"
   ]
  },
  {
   "cell_type": "markdown",
   "metadata": {},
   "source": [
    "### DATA PREPARATION\n",
    "* Copy data into new dataframe\n",
    "* Get me embeddings of each song from embed_model (Embedding column)\n",
    "* Save to csv (embed_data.csv)"
   ]
  },
  {
   "cell_type": "code",
   "execution_count": 20,
   "metadata": {},
   "outputs": [],
   "source": [
    "embed_data = data.copy(deep= True)\n",
    "embeddings = []\n",
    "\n",
    "for i in range(data.shape[0]):\n",
    "    curr_id = data.Id [i] \n",
    "    test_point = img_from_ID(data,curr_id)\n",
    "    curr_embedding = submodel.predict_on_batch(test_point)\n",
    "    curr_embedding = np.ndarray.tolist(curr_embedding)\n",
    "    embeddings.append(np.array(curr_embedding[0]))\n",
    "#     embeddings =  np.array(embeddings)\n",
    "    \n",
    "    \n",
    "embed_data['Embeddings'] =embeddings\n",
    "embed_data.Embeddings[0].shape\n",
    "# np.savetxt('test.csv', embed_data) \n",
    "embed_data.to_csv('embed_dataa.csv', na_rep = None )"
   ]
  },
  {
   "cell_type": "code",
   "execution_count": 21,
   "metadata": {},
   "outputs": [],
   "source": [
    "embeddings = np.array(embeddings)"
   ]
  },
  {
   "cell_type": "code",
   "execution_count": 22,
   "metadata": {},
   "outputs": [
    {
     "data": {
      "text/plain": [
       "dtype('float64')"
      ]
     },
     "execution_count": 22,
     "metadata": {},
     "output_type": "execute_result"
    }
   ],
   "source": [
    "embeddings[0].dtype"
   ]
  },
  {
   "cell_type": "code",
   "execution_count": 23,
   "metadata": {},
   "outputs": [
    {
     "data": {
      "text/plain": [
       "dtype('float64')"
      ]
     },
     "execution_count": 23,
     "metadata": {},
     "output_type": "execute_result"
    }
   ],
   "source": [
    "embed_data.Embeddings[0].dtype"
   ]
  },
  {
   "cell_type": "markdown",
   "metadata": {},
   "source": [
    "### USER INPUT CASE (Imagining its not in database rn)\n",
    "CONTEXT-\n",
    "User inputs a value or new song\n",
    "\n",
    "FOR NOW-\n",
    "Picking random point from database"
   ]
  },
  {
   "cell_type": "code",
   "execution_count": 24,
   "metadata": {},
   "outputs": [],
   "source": [
    "curr_id = data.Id [0] \n",
    "test_point = img_from_ID(data,curr_id)"
   ]
  },
  {
   "cell_type": "code",
   "execution_count": 25,
   "metadata": {},
   "outputs": [
    {
     "data": {
      "text/plain": [
       "(1, 128, 1402, 1)"
      ]
     },
     "execution_count": 25,
     "metadata": {},
     "output_type": "execute_result"
    }
   ],
   "source": [
    "test_point.shape"
   ]
  },
  {
   "cell_type": "markdown",
   "metadata": {},
   "source": [
    "#### Get me embeddings!"
   ]
  },
  {
   "cell_type": "code",
   "execution_count": 26,
   "metadata": {},
   "outputs": [],
   "source": [
    "e = submodel.predict_on_batch(test_point)"
   ]
  },
  {
   "cell_type": "code",
   "execution_count": null,
   "metadata": {},
   "outputs": [],
   "source": []
  },
  {
   "cell_type": "markdown",
   "metadata": {},
   "source": [
    "### TESTING KNN APPROACH: SHOW ME WHAT YOU'VE GOT KNN?"
   ]
  },
  {
   "cell_type": "code",
   "execution_count": 27,
   "metadata": {},
   "outputs": [],
   "source": [
    "edata = pd.read_csv(\"embed_dataa.csv\")\n",
    "X = embed_data.drop(['Id','Genre',' Spectrogram','Song Name','Images'],axis=1)\n",
    "y = embed_data['Genre']"
   ]
  },
  {
   "cell_type": "code",
   "execution_count": 28,
   "metadata": {},
   "outputs": [
    {
     "data": {
      "text/plain": [
       "(128,)"
      ]
     },
     "execution_count": 28,
     "metadata": {},
     "output_type": "execute_result"
    }
   ],
   "source": [
    "X.Embeddings[9].shape"
   ]
  },
  {
   "cell_type": "code",
   "execution_count": 29,
   "metadata": {},
   "outputs": [
    {
     "data": {
      "text/html": [
       "<div>\n",
       "<style scoped>\n",
       "    .dataframe tbody tr th:only-of-type {\n",
       "        vertical-align: middle;\n",
       "    }\n",
       "\n",
       "    .dataframe tbody tr th {\n",
       "        vertical-align: top;\n",
       "    }\n",
       "\n",
       "    .dataframe thead th {\n",
       "        text-align: right;\n",
       "    }\n",
       "</style>\n",
       "<table border=\"1\" class=\"dataframe\">\n",
       "  <thead>\n",
       "    <tr style=\"text-align: right;\">\n",
       "      <th></th>\n",
       "      <th>Embeddings</th>\n",
       "    </tr>\n",
       "  </thead>\n",
       "  <tbody>\n",
       "    <tr>\n",
       "      <th>0</th>\n",
       "      <td>[-0.150376558304, 0.0313371270895, -0.02312531...</td>\n",
       "    </tr>\n",
       "    <tr>\n",
       "      <th>1</th>\n",
       "      <td>[-0.132028907537, 0.0377219542861, -0.02441185...</td>\n",
       "    </tr>\n",
       "    <tr>\n",
       "      <th>2</th>\n",
       "      <td>[-0.134034276009, 0.0244921408594, -0.01880592...</td>\n",
       "    </tr>\n",
       "    <tr>\n",
       "      <th>3</th>\n",
       "      <td>[-0.125250160694, 0.0297113582492, -0.01148473...</td>\n",
       "    </tr>\n",
       "    <tr>\n",
       "      <th>4</th>\n",
       "      <td>[-0.13614282012, 0.0398959517479, -0.024466186...</td>\n",
       "    </tr>\n",
       "  </tbody>\n",
       "</table>\n",
       "</div>"
      ],
      "text/plain": [
       "                                          Embeddings\n",
       "0  [-0.150376558304, 0.0313371270895, -0.02312531...\n",
       "1  [-0.132028907537, 0.0377219542861, -0.02441185...\n",
       "2  [-0.134034276009, 0.0244921408594, -0.01880592...\n",
       "3  [-0.125250160694, 0.0297113582492, -0.01148473...\n",
       "4  [-0.13614282012, 0.0398959517479, -0.024466186..."
      ]
     },
     "execution_count": 29,
     "metadata": {},
     "output_type": "execute_result"
    }
   ],
   "source": [
    "X.head()"
   ]
  },
  {
   "cell_type": "code",
   "execution_count": 30,
   "metadata": {},
   "outputs": [
    {
     "data": {
      "text/plain": [
       "dtype('float64')"
      ]
     },
     "execution_count": 30,
     "metadata": {},
     "output_type": "execute_result"
    }
   ],
   "source": [
    "X.Embeddings[0].dtype"
   ]
  },
  {
   "cell_type": "code",
   "execution_count": 31,
   "metadata": {},
   "outputs": [
    {
     "data": {
      "text/plain": [
       "Embeddings    object\n",
       "dtype: object"
      ]
     },
     "execution_count": 31,
     "metadata": {},
     "output_type": "execute_result"
    }
   ],
   "source": [
    "X.dtypes"
   ]
  },
  {
   "cell_type": "code",
   "execution_count": 32,
   "metadata": {},
   "outputs": [],
   "source": [
    "X = X.values.T.tolist()"
   ]
  },
  {
   "cell_type": "code",
   "execution_count": 33,
   "metadata": {},
   "outputs": [],
   "source": [
    "X = np.array(X)\n",
    "X = X.reshape(3208,128)"
   ]
  },
  {
   "cell_type": "code",
   "execution_count": null,
   "metadata": {},
   "outputs": [],
   "source": []
  },
  {
   "cell_type": "code",
   "execution_count": 34,
   "metadata": {},
   "outputs": [
    {
     "data": {
      "text/plain": [
       "'Classical'"
      ]
     },
     "execution_count": 34,
     "metadata": {},
     "output_type": "execute_result"
    }
   ],
   "source": [
    "y[0]"
   ]
  },
  {
   "cell_type": "markdown",
   "metadata": {},
   "source": [
    "# ERROR - Cant convert string to float_32\n",
    "* Embeddings (python list) saving as string in csv\n",
    "* Cant fit string in KNN!!"
   ]
  },
  {
   "cell_type": "code",
   "execution_count": 35,
   "metadata": {},
   "outputs": [],
   "source": [
    "# X.Embeddings = X.Embeddings.convert_object(convert_numeric=True)"
   ]
  },
  {
   "cell_type": "code",
   "execution_count": 36,
   "metadata": {},
   "outputs": [],
   "source": [
    "X_train, X_test, y_train, y_test = train_test_split( X, y, test_size=0.20, random_state=42)"
   ]
  },
  {
   "cell_type": "code",
   "execution_count": 37,
   "metadata": {},
   "outputs": [
    {
     "data": {
      "text/plain": [
       "(128,)"
      ]
     },
     "execution_count": 37,
     "metadata": {},
     "output_type": "execute_result"
    }
   ],
   "source": [
    "X[0].shape"
   ]
  },
  {
   "cell_type": "code",
   "execution_count": 38,
   "metadata": {},
   "outputs": [],
   "source": [
    "from sklearn.neighbors import KNeighborsClassifier\n",
    "from sklearn.metrics import accuracy_score\n",
    "knn = KNeighborsClassifier(n_neighbors=8)\n"
   ]
  },
  {
   "cell_type": "code",
   "execution_count": 39,
   "metadata": {},
   "outputs": [],
   "source": [
    "# for i in range(embed_data.shape[0]):\n",
    "#     print(embed_data.Embeddings[i].shape)"
   ]
  },
  {
   "cell_type": "code",
   "execution_count": 40,
   "metadata": {},
   "outputs": [
    {
     "name": "stdout",
     "output_type": "stream",
     "text": [
      "0.426791277259\n"
     ]
    }
   ],
   "source": [
    "### X_train.shape\n",
    "knn.fit((X_train),(y_train))\n",
    "pred = knn.predict(np.array(X_test))\n",
    "print (accuracy_score(y_test, pred))"
   ]
  },
  {
   "cell_type": "markdown",
   "metadata": {},
   "source": [
    "#### OUTPUT\n",
    "* Gets me class of genre for test data point (pred)\n",
    "* Now I know the accuracy too."
   ]
  },
  {
   "cell_type": "markdown",
   "metadata": {},
   "source": [
    "### KNN NEXT STEP \n",
    "#### AIM - Suggest me top k (5) similar songs please!\n",
    "\n",
    "* I've predicted the class of genre my input song belongs to. Now I need to pick top 5 Song Name from this Genre with lease distant spectrogram embeddings."
   ]
  },
  {
   "cell_type": "code",
   "execution_count": 41,
   "metadata": {},
   "outputs": [],
   "source": [
    "## new random point \n",
    "## call predict on it\n",
    "pred = knn.predict([X_test[0]])\n",
    "## class of genre\n",
    "# print(pred)"
   ]
  },
  {
   "cell_type": "code",
   "execution_count": 42,
   "metadata": {},
   "outputs": [
    {
     "data": {
      "text/plain": [
       "'Metal'"
      ]
     },
     "execution_count": 42,
     "metadata": {},
     "output_type": "execute_result"
    }
   ],
   "source": [
    "pred[0]"
   ]
  },
  {
   "cell_type": "code",
   "execution_count": 43,
   "metadata": {},
   "outputs": [],
   "source": [
    "# # Suggestions of top 5 songs\n",
    "# curr_embed = (X_test[0])\n",
    "# predicted_Genre = pred\n",
    "# dist = []\n",
    "# dict = {}\n",
    "# for i in range(edata.shape[0]):\n",
    "#     if edata.Genre[i] == predicted_Genre:\n",
    "#         dist = np.linalg.norm(np.array(edata.Embeddings[i]),curr_embed)\n",
    "# #         dict.append([i])\n",
    "#         dist = np.sort(dist, axis = None)\n",
    "        \n",
    "# print(dist[5:])\n",
    "        \n",
    "        \n",
    "        \n",
    "    "
   ]
  },
  {
   "cell_type": "markdown",
   "metadata": {},
   "source": [
    "## CLUSTERING USING K Means  -- UNSUPERVISED "
   ]
  },
  {
   "cell_type": "code",
   "execution_count": 44,
   "metadata": {},
   "outputs": [],
   "source": [
    "from sklearn.cluster import KMeans"
   ]
  },
  {
   "cell_type": "code",
   "execution_count": 45,
   "metadata": {},
   "outputs": [],
   "source": [
    "kmeans = KMeans(n_clusters=6 , random_state=32).fit(X_train)"
   ]
  },
  {
   "cell_type": "code",
   "execution_count": 46,
   "metadata": {},
   "outputs": [
    {
     "data": {
      "text/plain": [
       "array([4, 1, 1, ..., 1, 4, 3])"
      ]
     },
     "execution_count": 46,
     "metadata": {},
     "output_type": "execute_result"
    }
   ],
   "source": [
    "kmeans.labels_"
   ]
  },
  {
   "cell_type": "code",
   "execution_count": 47,
   "metadata": {},
   "outputs": [
    {
     "data": {
      "text/plain": [
       "array([2, 5, 2, 2, 2, 1, 2, 5, 4, 5, 4, 2, 1, 4, 1, 4, 2, 2, 1, 5, 2, 0, 4,\n",
       "       2, 1, 2, 5, 1, 1, 1, 2, 1, 5, 1, 1, 4, 4, 4, 4, 4, 2, 1, 5, 2, 5, 4,\n",
       "       5, 3, 5, 4, 2, 1, 1, 4, 4, 2, 5, 4, 2, 3, 4, 2, 1, 1, 2, 4, 2, 0, 2,\n",
       "       5, 4, 5, 5, 1, 4, 5, 5, 1, 2, 4, 2, 4, 1, 2, 2, 1, 1, 4, 1, 2, 0, 1,\n",
       "       4, 5, 0, 4, 5, 4, 1, 5, 2, 1, 2, 5, 2, 1, 3, 4, 1, 5, 4, 5, 2, 1, 1,\n",
       "       1, 1, 1, 0, 1, 2, 2, 4, 1, 2, 1, 5, 2, 1, 1, 4, 0, 0, 3, 4, 2, 1, 5,\n",
       "       1, 4, 4, 1, 4, 1, 4, 4, 5, 4, 2, 5, 0, 4, 0, 5, 2, 1, 4, 1, 4, 4, 2,\n",
       "       2, 2, 1, 1, 4, 5, 3, 3, 4, 2, 1, 4, 3, 1, 1, 3, 1, 1, 2, 0, 4, 5, 3,\n",
       "       1, 0, 5, 1, 1, 1, 1, 2, 5, 0, 1, 1, 4, 4, 1, 0, 5, 1, 5, 5, 4, 5, 0,\n",
       "       2, 2, 2, 2, 0, 1, 4, 0, 5, 5, 5, 1, 2, 3, 1, 1, 2, 5, 2, 3, 5, 4, 1,\n",
       "       5, 2, 4, 0, 4, 1, 4, 2, 0, 4, 1, 1, 0, 1, 0, 1, 0, 2, 0, 1, 1, 1, 1,\n",
       "       1, 5, 5, 4, 2, 5, 5, 1, 1, 2, 5, 1, 2, 4, 4, 1, 4, 4, 1, 4, 1, 2, 2,\n",
       "       4, 5, 1, 1, 2, 5, 2, 4, 1, 5, 4, 2, 4, 1, 4, 1, 1, 5, 5, 5, 4, 4, 4,\n",
       "       4, 4, 4, 1, 2, 2, 4, 0, 1, 5, 2, 2, 1, 5, 2, 2, 3, 2, 1, 5, 5, 2, 4,\n",
       "       4, 5, 1, 0, 4, 2, 2, 4, 1, 5, 2, 0, 4, 5, 2, 5, 4, 5, 4, 1, 4, 0, 4,\n",
       "       1, 2, 4, 0, 1, 0, 1, 2, 1, 1, 0, 2, 4, 3, 5, 2, 2, 1, 1, 1, 2, 5, 2,\n",
       "       2, 2, 2, 2, 2, 0, 5, 4, 5, 3, 5, 2, 1, 4, 1, 5, 1, 1, 4, 0, 4, 3, 1,\n",
       "       1, 2, 4, 2, 1, 1, 4, 2, 4, 1, 1, 2, 1, 4, 5, 5, 5, 1, 5, 2, 4, 1, 2,\n",
       "       5, 1, 0, 0, 0, 5, 3, 5, 4, 2, 1, 4, 2, 0, 0, 4, 4, 4, 4, 5, 4, 5, 5,\n",
       "       4, 1, 1, 5, 0, 5, 5, 2, 5, 4, 1, 1, 4, 1, 4, 4, 2, 1, 5, 1, 2, 4, 2,\n",
       "       4, 0, 1, 0, 5, 2, 5, 4, 1, 1, 1, 4, 4, 0, 5, 2, 5, 2, 1, 4, 4, 2, 4,\n",
       "       1, 1, 5, 1, 1, 5, 4, 1, 1, 4, 2, 2, 1, 1, 0, 2, 2, 1, 4, 5, 0, 1, 2,\n",
       "       4, 4, 4, 0, 1, 1, 3, 2, 5, 1, 4, 5, 5, 2, 1, 1, 3, 1, 3, 4, 4, 5, 5,\n",
       "       1, 2, 5, 4, 4, 5, 1, 5, 4, 2, 3, 4, 0, 1, 4, 5, 2, 3, 5, 1, 5, 4, 2,\n",
       "       4, 5, 3, 3, 4, 4, 5, 3, 4, 4, 0, 4, 4, 4, 4, 4, 4, 4, 4, 2, 0, 4, 4,\n",
       "       4, 1, 5, 0, 5, 4, 1, 2, 4, 1, 4, 4, 3, 2, 3, 0, 1, 5, 5, 4, 1, 2, 5,\n",
       "       1, 4, 1, 4, 5, 1, 2, 1, 2, 5, 0, 4, 4, 1, 5, 2, 1, 4, 0, 5, 2, 1, 5,\n",
       "       5, 5, 4, 2, 1, 1, 4, 4, 0, 0, 1, 1, 1, 5, 1, 0, 2, 0, 4, 1, 3])"
      ]
     },
     "execution_count": 47,
     "metadata": {},
     "output_type": "execute_result"
    }
   ],
   "source": [
    "kmeans.predict(X_test)\n",
    "# kmeans.cluster_centers_"
   ]
  },
  {
   "cell_type": "code",
   "execution_count": 48,
   "metadata": {},
   "outputs": [
    {
     "data": {
      "text/plain": [
       "array([[ -1.31196782e-01,   5.23434589e-02,  -3.31131550e-02,\n",
       "          6.61033725e-02,  -5.69456800e-02,  -9.68556355e-03,\n",
       "          2.84999520e-02,  -2.64676836e-02,   1.03869581e-02,\n",
       "          9.36835593e-02,  -4.33294559e-02,  -1.06340722e-01,\n",
       "          6.18451159e-02,   1.06235386e-01,  -2.00249885e-02,\n",
       "          1.57729727e-02,  -1.34469389e-01,  -7.33397656e-02,\n",
       "          8.96429315e-02,  -3.77647850e-02,  -9.57833684e-02,\n",
       "          7.57373072e-02,   8.71683236e-02,  -3.73569943e-02,\n",
       "         -2.80543968e-04,   2.27685390e-02,   2.42228666e-02,\n",
       "         -3.32348652e-02,  -1.35734930e-01,   8.18459693e-02,\n",
       "          2.04680059e-02,   1.23391565e-01,   7.19275914e-02,\n",
       "         -4.27960543e-02,   1.34437923e-02,   2.95200005e-02,\n",
       "          3.16944572e-02,  -1.33075925e-01,  -1.04155146e-02,\n",
       "         -2.17998912e-02,   8.32341664e-03,   6.02813668e-03,\n",
       "          1.26445535e-01,  -1.78896448e-01,  -8.29863449e-02,\n",
       "          1.30646166e-02,  -1.62167604e-02,  -8.28745210e-02,\n",
       "          4.97982281e-02,   3.48591254e-02,   8.44149665e-02,\n",
       "          3.44674500e-02,   1.88746775e-01,  -2.31335977e-02,\n",
       "         -9.32144029e-03,  -9.54747716e-02,   1.12425716e-02,\n",
       "          2.20679413e-02,  -2.59836193e-02,  -7.36493369e-02,\n",
       "         -7.17141234e-02,  -2.38744245e-01,   4.57171752e-02,\n",
       "         -5.27274303e-02,  -2.72930807e-02,  -5.09028711e-02,\n",
       "         -9.95001161e-03,  -3.69221278e-02,  -7.99663602e-02,\n",
       "          1.61375340e-01,  -1.06647462e-01,  -2.11013775e-02,\n",
       "          1.09175581e-01,   1.37477206e-01,   4.55976981e-02,\n",
       "         -1.13505722e-01,   5.57843237e-03,   3.91408213e-03,\n",
       "         -4.12333241e-02,   7.53397750e-02,   2.33481545e-02,\n",
       "         -8.04964352e-02,  -6.45176205e-02,   3.01488555e-03,\n",
       "         -3.41695299e-02,  -5.24471979e-02,  -1.41533279e-01,\n",
       "         -1.92258258e-01,  -2.10928218e-01,  -4.88749665e-02,\n",
       "          1.75421774e-01,  -1.87943364e-01,  -1.07452942e-01,\n",
       "         -5.04628005e-02,   1.08094166e-01,  -6.75451135e-02,\n",
       "         -7.99894431e-02,   5.74728910e-02,   9.00249866e-03,\n",
       "          1.21894248e-01,  -7.94760206e-02,  -1.19183385e-02,\n",
       "         -2.11626920e-02,  -7.41429209e-02,  -9.14478731e-02,\n",
       "         -1.76825096e-01,   3.85365398e-03,   1.45560960e-01,\n",
       "          5.27614689e-02,   6.90009569e-02,   8.28284843e-02,\n",
       "          7.65763466e-02,  -1.01480878e-01,   6.20167788e-02,\n",
       "          1.41298115e-01,   1.24726964e-02,   8.53591265e-02,\n",
       "          4.59878019e-03,  -9.44020949e-02,   7.55794042e-02,\n",
       "         -4.05965282e-02,  -1.15673547e-01,   1.34739175e-02,\n",
       "          1.17949119e-01,  -6.50743941e-02,   1.41770106e-01,\n",
       "         -1.30340113e-01,  -1.66346896e-01],\n",
       "       [ -1.39198026e-01,   2.52176065e-02,  -2.01418780e-02,\n",
       "          5.88981392e-02,  -4.42532759e-02,  -5.04213261e-03,\n",
       "          1.97899728e-02,  -1.83255343e-02,  -1.98327722e-02,\n",
       "          9.15593352e-02,  -2.85145839e-02,  -1.00600365e-01,\n",
       "          4.31821124e-02,   9.23850050e-02,  -8.70740237e-03,\n",
       "          1.37116572e-02,  -1.46923192e-01,  -7.15382138e-02,\n",
       "          1.07686387e-01,  -2.19808009e-02,  -7.83687522e-02,\n",
       "          6.56028046e-02,   7.53073491e-02,   3.80758495e-03,\n",
       "         -1.76675579e-02,   2.00276888e-02,   1.47771686e-02,\n",
       "         -5.34526915e-03,  -1.25197125e-01,   8.08317087e-02,\n",
       "          7.33098954e-03,   1.23542778e-01,   8.76072418e-02,\n",
       "         -5.69650812e-02,   1.00272228e-02,   2.43089943e-02,\n",
       "          2.63976279e-03,  -1.15158115e-01,  -1.99871620e-02,\n",
       "         -9.63804383e-03,   1.19001858e-02,   4.32553277e-04,\n",
       "          1.17799314e-01,  -1.90121796e-01,  -8.60682501e-02,\n",
       "          3.30317967e-02,  -1.38150515e-02,  -5.95761554e-02,\n",
       "          3.29932955e-02,   2.33495170e-02,   9.53119965e-02,\n",
       "          2.50303120e-02,   1.87521655e-01,  -5.97145197e-03,\n",
       "         -1.00857628e-03,  -1.13145125e-01,   1.67676639e-02,\n",
       "          3.87175737e-02,  -3.51837328e-02,  -4.29177941e-02,\n",
       "         -8.90470158e-02,  -2.73310072e-01,   5.45918985e-02,\n",
       "         -2.62650823e-02,  -2.07536900e-02,  -5.63611929e-02,\n",
       "          6.30809600e-03,  -5.82470235e-03,  -9.90187883e-02,\n",
       "          1.55579235e-01,  -1.20491435e-01,  -2.34741732e-02,\n",
       "          1.07333807e-01,   1.33350871e-01,   6.17038855e-02,\n",
       "         -1.25455911e-01,  -3.84132358e-03,  -1.73991425e-02,\n",
       "         -2.80537260e-02,   1.01288933e-01,   2.25707874e-02,\n",
       "         -8.81600764e-02,  -6.14687348e-02,   6.47985843e-04,\n",
       "         -1.68872309e-02,  -5.81040131e-02,  -1.33066852e-01,\n",
       "         -2.03857033e-01,  -1.96205707e-01,  -5.22906423e-02,\n",
       "          1.53653700e-01,  -1.80970570e-01,  -1.31861928e-01,\n",
       "         -4.32873184e-02,   9.99739395e-02,  -7.69427469e-02,\n",
       "         -8.35104206e-02,   5.45438592e-02,   3.62747086e-02,\n",
       "          1.23070708e-01,  -8.66409257e-02,  -6.83305958e-03,\n",
       "         -2.32280380e-02,  -5.70284370e-02,  -8.60389891e-02,\n",
       "         -1.76085137e-01,  -2.86870370e-03,   1.42597682e-01,\n",
       "          6.77793671e-02,   7.09809648e-02,   7.63470685e-02,\n",
       "          5.89106485e-02,  -1.19276540e-01,   4.70818762e-02,\n",
       "          1.31337908e-01,   1.13000494e-02,   9.78187676e-02,\n",
       "         -7.42968117e-03,  -1.20191628e-01,   5.82464059e-02,\n",
       "         -3.82587902e-02,  -1.45772500e-01,   1.30521014e-02,\n",
       "          1.04085764e-01,  -7.15967307e-02,   1.33027729e-01,\n",
       "         -1.25192256e-01,  -1.81547092e-01],\n",
       "       [ -1.25748922e-01,   5.00498437e-02,  -1.96040862e-02,\n",
       "          6.63571447e-02,  -3.63708280e-02,  -5.85047437e-03,\n",
       "          1.86628229e-02,  -1.80622802e-02,   1.89334252e-02,\n",
       "          9.41432684e-02,  -3.18621086e-02,  -1.11134651e-01,\n",
       "          7.94696695e-02,   1.00393636e-01,  -2.35099114e-02,\n",
       "          1.77359404e-02,  -1.52228201e-01,  -6.57965800e-02,\n",
       "          9.24952205e-02,  -5.67143367e-02,  -9.23530904e-02,\n",
       "          5.41503131e-02,   7.89910566e-02,  -2.70527241e-02,\n",
       "         -2.58420090e-02,   2.08864754e-02,   1.56095582e-02,\n",
       "         -2.57354845e-02,  -1.35373593e-01,   8.95880407e-02,\n",
       "          2.23104984e-02,   1.26113866e-01,   6.62858826e-02,\n",
       "         -4.76256170e-02,   1.23491466e-02,   2.57476203e-02,\n",
       "          2.81362519e-02,  -1.29773859e-01,  -8.91786073e-03,\n",
       "         -3.54671919e-03,   2.69798296e-03,   1.28275511e-02,\n",
       "          1.14473977e-01,  -1.76219842e-01,  -8.31548516e-02,\n",
       "          2.12123353e-02,  -4.36825024e-03,  -8.62874976e-02,\n",
       "          4.18549579e-02,   2.15304706e-02,   8.50026463e-02,\n",
       "          2.82000153e-02,   1.83682755e-01,  -2.87735822e-02,\n",
       "         -2.04691289e-02,  -1.03173296e-01,   1.69346351e-02,\n",
       "          3.76408110e-02,  -1.88705420e-02,  -6.32936933e-02,\n",
       "         -6.10247070e-02,  -2.49676438e-01,   4.58223063e-02,\n",
       "         -4.57943432e-02,  -3.10941104e-02,  -3.77339828e-02,\n",
       "          1.29409138e-03,  -3.10510574e-02,  -8.67885581e-02,\n",
       "          1.59149032e-01,  -1.07234030e-01,  -1.38011601e-02,\n",
       "          1.14363443e-01,   1.33562805e-01,   3.33473885e-02,\n",
       "         -1.26375552e-01,  -4.27397958e-03,  -1.13096448e-02,\n",
       "         -3.84347594e-02,   5.55892825e-02,   1.63319065e-02,\n",
       "         -7.40843795e-02,  -6.11290483e-02,   2.44058748e-03,\n",
       "         -2.29461869e-02,  -6.24842797e-02,  -1.54309208e-01,\n",
       "         -1.77423411e-01,  -2.02638390e-01,  -5.35061639e-02,\n",
       "          1.72987386e-01,  -1.97077428e-01,  -1.16585814e-01,\n",
       "         -3.97119016e-02,   1.01931219e-01,  -6.09489964e-02,\n",
       "         -9.55976081e-02,   4.76330356e-02,   6.67661031e-03,\n",
       "          1.17242014e-01,  -7.96569092e-02,  -1.40966364e-02,\n",
       "         -2.16176350e-02,  -7.92431404e-02,  -9.89562586e-02,\n",
       "         -1.84338476e-01,   4.63025636e-03,   1.54059139e-01,\n",
       "          4.78866704e-02,   7.88330628e-02,   9.55168881e-02,\n",
       "          7.23635372e-02,  -1.07117111e-01,   6.16193997e-02,\n",
       "          1.47312684e-01,   2.05161726e-02,   9.83390597e-02,\n",
       "         -6.40986718e-03,  -9.64338722e-02,   8.27480572e-02,\n",
       "         -3.26910786e-02,  -1.10779832e-01,   1.47811057e-02,\n",
       "          1.16707540e-01,  -7.36036538e-02,   1.37584275e-01,\n",
       "         -1.46634907e-01,  -1.62763248e-01],\n",
       "       [ -1.44459149e-01,   4.39531834e-02,  -2.71838032e-03,\n",
       "          6.00024780e-02,  -2.94911261e-02,  -2.58954388e-03,\n",
       "          2.11062762e-02,  -6.05300700e-03,   1.19373580e-03,\n",
       "          8.86285094e-02,  -7.38411637e-03,  -1.09173836e-01,\n",
       "          7.35337801e-02,   1.02527443e-01,  -3.32239546e-02,\n",
       "          3.35654994e-02,  -1.65426445e-01,  -5.32386864e-02,\n",
       "          9.56623155e-02,  -7.33199503e-02,  -7.43242936e-02,\n",
       "          4.68937032e-02,   6.90836786e-02,   1.17573891e-02,\n",
       "         -5.09379194e-02,   3.06659932e-02,   1.92419075e-02,\n",
       "         -9.19879357e-03,  -1.40639034e-01,   1.00125938e-01,\n",
       "          1.38812197e-02,   1.16804011e-01,   5.12333934e-02,\n",
       "         -4.61275253e-02,   1.16713186e-02,   2.93105325e-02,\n",
       "          2.31772686e-02,  -1.02687388e-01,  -4.98537637e-03,\n",
       "          7.78127768e-03,   8.50100801e-04,   1.36751048e-02,\n",
       "          9.99304043e-02,  -1.78136744e-01,  -8.86088054e-02,\n",
       "          3.04299114e-02,   6.01401357e-03,  -6.90984693e-02,\n",
       "          3.56330745e-02,  -6.56050362e-05,   9.21977096e-02,\n",
       "          2.42939519e-02,   1.83661996e-01,  -2.00767246e-02,\n",
       "         -6.22407478e-03,  -1.22586044e-01,   3.35448359e-02,\n",
       "          5.38052763e-02,  -2.30517444e-02,  -4.58042971e-02,\n",
       "         -5.82506060e-02,  -2.63916476e-01,   3.82277911e-02,\n",
       "         -3.10714522e-02,  -2.44502512e-02,  -3.19609780e-02,\n",
       "          2.50021704e-02,  -1.76553329e-02,  -9.34142446e-02,\n",
       "          1.57370432e-01,  -1.09006575e-01,  -1.32864250e-02,\n",
       "          1.17842031e-01,   1.16515363e-01,   3.83198200e-02,\n",
       "         -1.45281033e-01,  -2.22766094e-02,  -3.43705614e-02,\n",
       "         -2.58271991e-02,   5.07777795e-02,   5.23467513e-03,\n",
       "         -7.54080029e-02,  -4.32785285e-02,   5.02582882e-03,\n",
       "         -1.61487711e-02,  -6.04236976e-02,  -1.47577627e-01,\n",
       "         -1.59607140e-01,  -1.93374622e-01,  -5.97142827e-02,\n",
       "          1.70898471e-01,  -1.90717574e-01,  -1.33290975e-01,\n",
       "         -3.51987020e-02,   9.32054482e-02,  -7.46268451e-02,\n",
       "         -1.02035564e-01,   3.66677250e-02,   2.87202330e-02,\n",
       "          1.08891786e-01,  -7.17957407e-02,  -4.57051221e-03,\n",
       "         -2.32138619e-02,  -6.40896477e-02,  -9.19031085e-02,\n",
       "         -1.95366208e-01,  -3.62584794e-03,   1.59765708e-01,\n",
       "          5.36684119e-02,   7.63645359e-02,   9.22084021e-02,\n",
       "          6.29454070e-02,  -1.21548637e-01,   7.78248066e-02,\n",
       "          1.25886304e-01,   2.13932044e-02,   1.04113458e-01,\n",
       "         -2.03192804e-02,  -9.49173084e-02,   8.66825374e-02,\n",
       "         -1.08623275e-02,  -1.36371048e-01,  -2.10235771e-03,\n",
       "          9.75181513e-02,  -9.49996068e-02,   1.30761649e-01,\n",
       "         -1.43714436e-01,  -1.46724098e-01],\n",
       "       [ -1.28780506e-01,   3.53002107e-02,  -2.21396493e-02,\n",
       "          6.34224824e-02,  -3.96476386e-02,  -7.92630360e-03,\n",
       "          2.40005372e-02,  -2.30604977e-02,  -3.70071834e-03,\n",
       "          9.77651693e-02,  -2.77418945e-02,  -1.05513354e-01,\n",
       "          5.60889791e-02,   9.46905513e-02,  -1.63494657e-02,\n",
       "          1.88963731e-02,  -1.47651591e-01,  -6.34167609e-02,\n",
       "          9.77261291e-02,  -3.69626867e-02,  -8.86381281e-02,\n",
       "          6.05189411e-02,   7.49620656e-02,  -9.30169534e-03,\n",
       "         -2.07093829e-02,   1.58403628e-02,   1.96162983e-02,\n",
       "         -1.34370152e-02,  -1.24386672e-01,   8.18455808e-02,\n",
       "          1.97851837e-02,   1.25395235e-01,   8.22462243e-02,\n",
       "         -5.38157038e-02,   1.56735131e-02,   2.57617904e-02,\n",
       "          1.14537062e-02,  -1.22858656e-01,  -1.92159519e-02,\n",
       "         -1.54829614e-03,   7.50925535e-03,   1.33063373e-03,\n",
       "          1.12544199e-01,  -1.80581711e-01,  -8.50012106e-02,\n",
       "          2.40609028e-02,  -1.01653344e-02,  -7.34814754e-02,\n",
       "          3.07401036e-02,   2.43177606e-02,   9.31197501e-02,\n",
       "          3.05802259e-02,   1.83311949e-01,  -5.76414752e-03,\n",
       "         -1.05186587e-02,  -1.10111516e-01,   1.37098124e-02,\n",
       "          3.83680594e-02,  -2.60784667e-02,  -5.41100453e-02,\n",
       "         -7.77857080e-02,  -2.62453627e-01,   5.60280580e-02,\n",
       "         -3.75817547e-02,  -2.03723772e-02,  -5.29326844e-02,\n",
       "         -1.03078297e-03,  -1.81098637e-02,  -9.72433171e-02,\n",
       "          1.55514683e-01,  -1.12060966e-01,  -1.84964148e-02,\n",
       "          1.15491105e-01,   1.33550037e-01,   4.82067064e-02,\n",
       "         -1.25316247e-01,  -1.95833318e-03,  -1.27185553e-02,\n",
       "         -2.80648251e-02,   8.29353715e-02,   2.20374233e-02,\n",
       "         -8.59751527e-02,  -6.16643543e-02,   3.00871073e-03,\n",
       "         -1.79453743e-02,  -5.74894974e-02,  -1.39863833e-01,\n",
       "         -1.90275458e-01,  -1.95984390e-01,  -4.94540579e-02,\n",
       "          1.63314909e-01,  -1.93679371e-01,  -1.26980186e-01,\n",
       "         -3.61574064e-02,   9.30186116e-02,  -7.37682445e-02,\n",
       "         -8.85803833e-02,   5.27344930e-02,   2.38105846e-02,\n",
       "          1.21783385e-01,  -8.33804168e-02,  -1.37187866e-02,\n",
       "         -2.34768136e-02,  -7.22708565e-02,  -9.26708531e-02,\n",
       "         -1.80950612e-01,  -2.17151681e-03,   1.45858429e-01,\n",
       "          5.54753517e-02,   7.05927342e-02,   8.05700261e-02,\n",
       "          6.26871643e-02,  -1.14882159e-01,   5.41822416e-02,\n",
       "          1.44222019e-01,   1.35705034e-02,   1.01772046e-01,\n",
       "         -4.36963952e-03,  -1.09854326e-01,   6.84158994e-02,\n",
       "         -3.18747586e-02,  -1.31921409e-01,   1.35182674e-02,\n",
       "          1.13288825e-01,  -7.34190984e-02,   1.35364970e-01,\n",
       "         -1.42317842e-01,  -1.71816775e-01],\n",
       "       [ -1.27600640e-01,   6.15612611e-02,  -2.03595119e-02,\n",
       "          6.72726103e-02,  -3.64174347e-02,  -7.21478754e-03,\n",
       "          1.71861729e-02,  -1.43880348e-02,   2.97528268e-02,\n",
       "          8.67245290e-02,  -3.48597003e-02,  -1.13067541e-01,\n",
       "          9.25664286e-02,   1.08747825e-01,  -2.96038116e-02,\n",
       "          2.02892478e-02,  -1.51489229e-01,  -6.46802183e-02,\n",
       "          8.88305867e-02,  -7.09098080e-02,  -9.10420914e-02,\n",
       "          5.51597445e-02,   8.34368398e-02,  -4.08584649e-02,\n",
       "         -2.63091896e-02,   2.36440751e-02,   1.62273867e-02,\n",
       "         -3.43760660e-02,  -1.50592522e-01,   9.67613424e-02,\n",
       "          2.06136155e-02,   1.25618214e-01,   4.96494991e-02,\n",
       "         -3.52119231e-02,   1.04959517e-02,   2.80931610e-02,\n",
       "          4.30936288e-02,  -1.28928913e-01,  -4.81568115e-04,\n",
       "         -1.13377563e-02,  -2.21532061e-03,   1.71918060e-02,\n",
       "          1.17537325e-01,  -1.73500511e-01,  -7.70158658e-02,\n",
       "          2.09889472e-02,  -1.68250635e-03,  -9.50950867e-02,\n",
       "          5.58596111e-02,   2.53842913e-02,   7.68812755e-02,\n",
       "          2.32576046e-02,   1.86776008e-01,  -4.68656657e-02,\n",
       "         -2.20397846e-02,  -9.76444290e-02,   2.35062831e-02,\n",
       "          3.33963972e-02,  -1.40007606e-02,  -7.35499056e-02,\n",
       "         -4.71149465e-02,  -2.35920921e-01,   3.46850757e-02,\n",
       "         -5.69914085e-02,  -4.08860738e-02,  -2.68263882e-02,\n",
       "          6.40794248e-03,  -4.39062454e-02,  -7.79377510e-02,\n",
       "          1.60822204e-01,  -1.03603848e-01,  -8.23522410e-03,\n",
       "          1.12628033e-01,   1.30724141e-01,   3.00721317e-02,\n",
       "         -1.28162006e-01,  -3.09119707e-03,  -1.15280858e-02,\n",
       "         -4.65100701e-02,   3.51666242e-02,   1.15132256e-02,\n",
       "         -6.51723219e-02,  -6.14259391e-02,  -4.99276880e-04,\n",
       "         -2.65401410e-02,  -6.77001168e-02,  -1.61814235e-01,\n",
       "         -1.65973024e-01,  -2.07443034e-01,  -5.81626102e-02,\n",
       "          1.79287504e-01,  -1.91823118e-01,  -1.04807493e-01,\n",
       "         -4.57090020e-02,   1.14816171e-01,  -5.18089488e-02,\n",
       "         -1.02048203e-01,   4.60070158e-02,  -4.58925576e-03,\n",
       "          1.08778675e-01,  -7.72841345e-02,  -1.15651576e-02,\n",
       "         -1.95544700e-02,  -8.23957648e-02,  -9.81926118e-02,\n",
       "         -1.88622937e-01,   1.02880065e-02,   1.58036570e-01,\n",
       "          4.06322038e-02,   8.49625128e-02,   1.05585083e-01,\n",
       "          8.28138751e-02,  -9.68361170e-02,   7.24809901e-02,\n",
       "          1.43371320e-01,   2.48516810e-02,   9.23947576e-02,\n",
       "         -5.71781561e-03,  -8.13440496e-02,   9.58524164e-02,\n",
       "         -3.18640991e-02,  -9.18376509e-02,   1.25774220e-02,\n",
       "          1.16120809e-01,  -7.63451447e-02,   1.38431514e-01,\n",
       "         -1.43162158e-01,  -1.50515487e-01]])"
      ]
     },
     "execution_count": 48,
     "metadata": {},
     "output_type": "execute_result"
    }
   ],
   "source": [
    "kmeans.cluster_centers_"
   ]
  }
 ],
 "metadata": {
  "kernelspec": {
   "display_name": "Python 3",
   "language": "python",
   "name": "python3"
  },
  "language_info": {
   "codemirror_mode": {
    "name": "ipython",
    "version": 3
   },
   "file_extension": ".py",
   "mimetype": "text/x-python",
   "name": "python",
   "nbconvert_exporter": "python",
   "pygments_lexer": "ipython3",
   "version": "3.6.4"
  }
 },
 "nbformat": 4,
 "nbformat_minor": 2
}
