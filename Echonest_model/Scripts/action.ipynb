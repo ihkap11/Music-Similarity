{
 "cells": [
  {
   "cell_type": "code",
   "execution_count": 2,
   "metadata": {},
   "outputs": [
    {
     "name": "stderr",
     "output_type": "stream",
     "text": [
      "usage: ipykernel_launcher.py [-h] location\n",
      "ipykernel_launcher.py: error: unrecognized arguments: -f\n"
     ]
    },
    {
     "ename": "SystemExit",
     "evalue": "2",
     "output_type": "error",
     "traceback": [
      "An exception has occurred, use %tb to see the full traceback.\n",
      "\u001b[1;31mSystemExit\u001b[0m\u001b[1;31m:\u001b[0m 2\n"
     ]
    },
    {
     "name": "stderr",
     "output_type": "stream",
     "text": [
      "C:\\Users\\spari\\Anaconda3\\envs\\tensorflow-gpu\\lib\\site-packages\\IPython\\core\\interactiveshell.py:2918: UserWarning: To exit: use 'exit', 'quit', or Ctrl-D.\n",
      "  warn(\"To exit: use 'exit', 'quit', or Ctrl-D.\", stacklevel=1)\n"
     ]
    }
   ],
   "source": [
    "import argparse\n",
    "import pandas as pd\n",
    "import numpy as np\n",
    "from keras.models import load_model\n",
    "# from extract_echonest_features import echonest_feature_maker\n",
    "\n",
    "\n",
    "def predict():    \n",
    "    model = load_model('acc_model.h5')\n",
    "    test_data = pd.read_csv(\"input.csv\", low_memory=False)\n",
    "    \n",
    "    test_data.drop([0,1], inplace = True)\n",
    "    test_data.set_index(\"feature\", inplace = True)\n",
    "    \n",
    "    test_data1 = np.expand_dims(test_data, axis=2)\n",
    "    \n",
    "    output = model.predict(test_data1)\n",
    "    np.savetxt('output.csv', (output), delimiter=',')\n",
    "    \n",
    "\n",
    "def main():\n",
    "    parser = argparse.ArgumentParser(description='Predicting echonest features.')\n",
    "    parser.add_argument('location',metavar='location',type=str,help='Folder location of the songs')\n",
    "#     parser.add_argument('csv name',metavar='csv_name',type=str,help='Name of the csv file')\n",
    "    args=parser.parse_args()\n",
    "    \n",
    "    echonest_feature_maker.echonest_feature_maker(args.location,\"input\")\n",
    "    predict()\n",
    "    \n",
    "    \n",
    "if __name__ == \"__main__\":\n",
    "    main()  \n",
    "    \n",
    "    \n",
    "    "
   ]
  }
 ],
 "metadata": {
  "kernelspec": {
   "display_name": "Python 3",
   "language": "python",
   "name": "python3"
  },
  "language_info": {
   "codemirror_mode": {
    "name": "ipython",
    "version": 3
   },
   "file_extension": ".py",
   "mimetype": "text/x-python",
   "name": "python",
   "nbconvert_exporter": "python",
   "pygments_lexer": "ipython3",
   "version": "3.5.4"
  }
 },
 "nbformat": 4,
 "nbformat_minor": 2
}
