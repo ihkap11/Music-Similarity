{
 "cells": [
  {
   "cell_type": "code",
   "execution_count": 1,
   "metadata": {
    "collapsed": true
   },
   "outputs": [],
   "source": [
    "import numpy as np\n",
    "import matplotlib.pyplot as plt\n",
    "import IPython.display as ipd\n",
    "%matplotlib inline\n",
    "import librosa\n",
    "import librosa.display\n",
    "import pylab\n",
    "import os\n",
    "import matplotlib.image as mpimg\n",
    "\n",
    "from sklearn.mixture import GaussianMixture\n"
   ]
  },
  {
   "cell_type": "markdown",
   "metadata": {},
   "source": [
    "### Mel Spectrogram"
   ]
  },
  {
   "cell_type": "markdown",
   "metadata": {},
   "source": [
    "##### librosa.feature.melspectrogram\n",
    "\n",
    "INPUT - If a time-series input y, sr is provided\n",
    "Internal Steps :\n",
    "* y's magnitude spectrogram S is first computed\n",
    "* then mapped onto the mel scale by mel_f.dot(S**power). By default, power=2 operates on a power spectrum. \n",
    "\n",
    "\n",
    "Other Parameters\n",
    "* n_fft:  length of FFT window\n",
    "* hop_length:  number of samples between successive frames\n",
    "* power: 1(energy) or 2(power) and so on...\n",
    "\n"
   ]
  },
  {
   "cell_type": "code",
   "execution_count": null,
   "metadata": {
    "collapsed": true
   },
   "outputs": [],
   "source": []
  },
  {
   "cell_type": "markdown",
   "metadata": {},
   "source": [
    "# BEGIN FROM HERE!!"
   ]
  },
  {
   "cell_type": "markdown",
   "metadata": {},
   "source": [
    "## TAKING WHOLE SONG AT THE SAME TIME WITH 1 MIN SECTIONS"
   ]
  },
  {
   "cell_type": "code",
   "execution_count": 2,
   "metadata": {
    "collapsed": true
   },
   "outputs": [],
   "source": [
    "audio_path = 'music.mp3'\n",
    "duration = 60\n",
    "offset = 0\n",
    "n_components= 40\n",
    "covariance_type = 'tied'"
   ]
  },
  {
   "cell_type": "code",
   "execution_count": 25,
   "metadata": {},
   "outputs": [
    {
     "name": "stdout",
     "output_type": "stream",
     "text": [
      "AUDIO PART 1 :\n",
      " Starting point: 0   Ending point: 60.0\n",
      " Done!\n",
      "AUDIO PART 2 :\n",
      " Starting point: 60   Ending point: 120.0\n",
      " Done!\n",
      "AUDIO PART 3 :\n",
      " Starting point: 120   Ending point: 180.0\n",
      " Done!\n",
      "AUDIO PART 4 :\n",
      " Starting point: 180   Ending point: 222.09\n",
      " Done!\n",
      "GMM TRAINING SUCCESSFUL!\n"
     ]
    }
   ],
   "source": [
    "def train_sample_audio(duration, audio_path, returnModel = True):\n",
    "    offset = 0\n",
    "    count = 0\n",
    "    \n",
    "    while(True):\n",
    "        # load sampled audio\n",
    "        y, sr = librosa.load(audio_path, mono =True, offset = offset, duration = duration)\n",
    "        \n",
    "        # in case the song ends\n",
    "        length = librosa.get_duration(y, sr)\n",
    "            \n",
    "        if(y.size == 0):\n",
    "            break\n",
    "      \n",
    "        print \"AUDIO PART\",count+1,\":\\n Starting point:\", offset,\"  Ending point:\", offset + np.around(length,2)\n",
    "       \n",
    "        # Spectrogram\n",
    "        S = librosa.feature.melspectrogram(y, sr=sr, n_fft=4096, hop_length=256)\n",
    "        logS = librosa.power_to_db(S, ref=np.max)\n",
    "        \n",
    "        # Apply Guassian Mixture model\n",
    "        gmm = GaussianMixture(n_components = n_components, covariance_type = covariance_type)\n",
    "        gmm.fit(logS)\n",
    "        \n",
    "        # Move to next audio slice\n",
    "        offset = offset + duration\n",
    "        \n",
    "        \n",
    "        # If successful print DONE\n",
    "        print \" Done!\"\n",
    "        count += 1\n",
    "        \n",
    "    print(\"GMM TRAINING SUCCESSFUL!\")\n",
    "    \n",
    "    return gmm\n",
    "                    \n",
    "        \n",
    "gmm_rap = train_sample_audio(duration, audio_path)"
   ]
  },
  {
   "cell_type": "code",
   "execution_count": 4,
   "metadata": {
    "collapsed": true
   },
   "outputs": [],
   "source": [
    "# DUMMY DATASET CREATION\n",
    "data_rap, labels_rap = gmm_rap.sample(n_samples=40)"
   ]
  },
  {
   "cell_type": "code",
   "execution_count": 26,
   "metadata": {},
   "outputs": [
    {
     "data": {
      "text/plain": [
       "(40L, 3626L)"
      ]
     },
     "execution_count": 26,
     "metadata": {},
     "output_type": "execute_result"
    }
   ],
   "source": [
    "data_rap.shape"
   ]
  },
  {
   "cell_type": "code",
   "execution_count": 6,
   "metadata": {},
   "outputs": [
    {
     "data": {
      "text/plain": [
       "(40L,)"
      ]
     },
     "execution_count": 6,
     "metadata": {},
     "output_type": "execute_result"
    }
   ],
   "source": [
    "labels_rap.shape"
   ]
  },
  {
   "cell_type": "code",
   "execution_count": 7,
   "metadata": {
    "collapsed": true
   },
   "outputs": [],
   "source": [
    "X = data_rap"
   ]
  },
  {
   "cell_type": "code",
   "execution_count": 8,
   "metadata": {},
   "outputs": [
    {
     "data": {
      "image/png": "[encoded data removed]",
      "text/plain": [
       "<matplotlib.figure.Figure at 0xdcfccf8>"
      ]
     },
     "metadata": {},
     "output_type": "display_data"
    }
   ],
   "source": [
    "plt.figure(figsize=(5,5))\n",
    "# plt.axis([-80.005,-79.995,-80.005,-79.995])\n",
    "plt.scatter(X[:, 0], X[:, 1], c=labels_rap, s=40, cmap='viridis');"
   ]
  },
  {
   "cell_type": "code",
   "execution_count": 28,
   "metadata": {},
   "outputs": [
    {
     "name": "stdout",
     "output_type": "stream",
     "text": [
      "AUDIO PART 1 :\n",
      " Starting point: 0   Ending point: 60.0\n",
      " Done!\n",
      "AUDIO PART 2 :\n",
      " Starting point: 60   Ending point: 120.0\n",
      " Done!\n",
      "AUDIO PART 3 :\n",
      " Starting point: 120   Ending point: 180.0\n",
      " Done!\n",
      "AUDIO PART 4 :\n",
      " Starting point: 180   Ending point: 240.0\n",
      " Done!\n",
      "AUDIO PART 5 :\n",
      " Starting point: 240   Ending point: 297.95\n",
      " Done!\n",
      "GMM TRAINING SUCCESSFUL!\n"
     ]
    }
   ],
   "source": [
    "gmm_mnm = train_sample_audio(duration, 'music1.mp3')"
   ]
  },
  {
   "cell_type": "code",
   "execution_count": 29,
   "metadata": {
    "collapsed": true
   },
   "outputs": [],
   "source": [
    "# DUMMY DATASET CREATION\n",
    "data_mnm, labels_mnm = gmm_mnm.sample(n_samples=40)"
   ]
  },
  {
   "cell_type": "code",
   "execution_count": 30,
   "metadata": {},
   "outputs": [
    {
     "data": {
      "image/png": "[encoded data removed]",
      "text/plain": [
       "<matplotlib.figure.Figure at 0x17ba6588>"
      ]
     },
     "metadata": {},
     "output_type": "display_data"
    }
   ],
   "source": [
    "plt.figure(figsize=(5,5))\n",
    "# plt.axis([-80.005,-79.995,-80.005,-79.995])\n",
    "plt.scatter(data_mnm[:, 0], data_mnm[:, 1], c=labels_mnm, s=40, cmap='viridis');"
   ]
  },
  {
   "cell_type": "code",
   "execution_count": 32,
   "metadata": {},
   "outputs": [
    {
     "data": {
      "text/plain": [
       "-5300161634.5707035"
      ]
     },
     "execution_count": 32,
     "metadata": {},
     "output_type": "execute_result"
    }
   ],
   "source": [
    "gmm_rap.score(data_rap)"
   ]
  },
  {
   "cell_type": "markdown",
   "metadata": {},
   "source": [
    "### Resizing isn't a good way to do this. Require a generis solution.\n",
    "### Find a way to limit features extracted from GMM"
   ]
  },
  {
   "cell_type": "code",
   "execution_count": 34,
   "metadata": {},
   "outputs": [],
   "source": [
    "data_mnm.resize((40L, 3626L))"
   ]
  },
  {
   "cell_type": "code",
   "execution_count": 35,
   "metadata": {},
   "outputs": [
    {
     "data": {
      "text/plain": [
       "(40L, 3626L)"
      ]
     },
     "execution_count": 35,
     "metadata": {},
     "output_type": "execute_result"
    }
   ],
   "source": [
    "data_mnm.shape"
   ]
  },
  {
   "cell_type": "code",
   "execution_count": 36,
   "metadata": {},
   "outputs": [
    {
     "data": {
      "text/plain": [
       "-251197679150.23608"
      ]
     },
     "execution_count": 36,
     "metadata": {},
     "output_type": "execute_result"
    }
   ],
   "source": [
    "gmm_rap.score(data_mnm)"
   ]
  },
  {
   "cell_type": "code",
   "execution_count": 68,
   "metadata": {},
   "outputs": [
    {
     "data": {
      "text/plain": [
       "-2669615794.8062572"
      ]
     },
     "execution_count": 68,
     "metadata": {},
     "output_type": "execute_result"
    }
   ],
   "source": [
    "gmm_icky.score(data_rap)"
   ]
  },
  {
   "cell_type": "code",
   "execution_count": null,
   "metadata": {
    "collapsed": true
   },
   "outputs": [],
   "source": []
  },
  {
   "cell_type": "code",
   "execution_count": 83,
   "metadata": {},
   "outputs": [
    {
     "name": "stdout",
     "output_type": "stream",
     "text": [
      "AUDIO PART 1 :\n",
      " Starting point: 0   Ending point: 60\n",
      " Done!\n",
      "AUDIO PART 2 :\n",
      " Starting point: 60   Ending point: 120\n",
      " Done!\n",
      "AUDIO PART 3 :\n",
      " Starting point: 120   Ending point: 180\n",
      " Done!\n",
      "AUDIO PART 4 :\n",
      " Starting point: 180   Ending point: 240\n",
      " Done!\n",
      "AUDIO PART 5 :\n",
      " Starting point: 240   Ending point: 300\n",
      " Done!\n",
      "GMM TRAINING SUCCESSFUL!\n"
     ]
    }
   ],
   "source": [
    "gmm_eminem = train_sample_audio(duration, 'music1.mp3')"
   ]
  },
  {
   "cell_type": "code",
   "execution_count": 70,
   "metadata": {
    "collapsed": true
   },
   "outputs": [],
   "source": [
    "data_eminem, labels_eminem = gmm_eminem.sample(n_samples=40)"
   ]
  },
  {
   "cell_type": "code",
   "execution_count": 71,
   "metadata": {},
   "outputs": [
    {
     "data": {
      "image/png": "[encoded data removed]",
      "text/plain": [
       "<matplotlib.figure.Figure at 0xfbc2550>"
      ]
     },
     "metadata": {},
     "output_type": "display_data"
    }
   ],
   "source": [
    "plt.figure(figsize=(5,5))\n",
    "plt.axis([-80.005,-79.995,-80.005,-79.995])\n",
    "plt.scatter(X[:, 0], X[:, 1], c=labels_rap, s=40, cmap='viridis');"
   ]
  },
  {
   "cell_type": "code",
   "execution_count": 72,
   "metadata": {},
   "outputs": [
    {
     "data": {
      "text/plain": [
       "array([ -3.04948794e+09,  -4.65821052e+09,  -1.64679790e+09,\n",
       "        -1.14908256e+09,  -1.40719164e+09,  -1.64304290e+09,\n",
       "        -5.07833114e+09,  -4.45818301e+09,  -3.28558741e+09,\n",
       "        -1.67557619e+09,  -3.05997248e+09,  -2.43385999e+09,\n",
       "        -4.98154900e+09,  -5.37967081e+09,  -3.63439655e+09,\n",
       "        -1.69717527e+09,  -1.17112748e+09,  -2.12321952e+09,\n",
       "        -2.40106095e+09,  -2.84625714e+09,  -1.36685532e+09,\n",
       "        -1.67242456e+09,  -2.51796186e+09,  -1.80327981e+09,\n",
       "        -9.19365713e+08,  -1.12404346e+09,  -6.81676498e+09,\n",
       "        -7.71553466e+08,  -4.20092199e+09,  -2.84307762e+09,\n",
       "        -1.17987210e+09,  -9.30150449e+09,  -4.58752462e+09,\n",
       "        -4.77524913e+09,  -1.90883299e+09,  -1.32447105e+09,\n",
       "        -3.46814524e+09,  -1.48091204e+09,  -6.08374547e+09,\n",
       "        -2.26270460e+09])"
      ]
     },
     "execution_count": 72,
     "metadata": {},
     "output_type": "execute_result"
    }
   ],
   "source": [
    "gmm_rap.score_samples(data_eminem)"
   ]
  },
  {
   "cell_type": "code",
   "execution_count": 73,
   "metadata": {},
   "outputs": [
    {
     "data": {
      "text/plain": [
       "-2954724772.6294441"
      ]
     },
     "execution_count": 73,
     "metadata": {},
     "output_type": "execute_result"
    }
   ],
   "source": [
    "gmm_rap.score(data_eminem)"
   ]
  },
  {
   "cell_type": "markdown",
   "metadata": {},
   "source": [
    "#### IGNORE BELOW"
   ]
  },
  {
   "cell_type": "markdown",
   "metadata": {},
   "source": [
    "#DOUBT:\n",
    "This doesn't make sense.\n",
    "Two rap songs by the same singer give negative score. I am not understanding why it worked this way."
   ]
  },
  {
   "cell_type": "code",
   "execution_count": null,
   "metadata": {
    "collapsed": true
   },
   "outputs": [],
   "source": [
    "y_rap, sr_rap = librosa.load('music2.mp3', mono =True, offset = offset, duration = duration)"
   ]
  },
  {
   "cell_type": "code",
   "execution_count": 37,
   "metadata": {},
   "outputs": [],
   "source": [
    "def test_sample_audio(duration, audio_path):\n",
    "    offset = 0\n",
    "    count = 0\n",
    "    \n",
    "    while(True):\n",
    "        # load sampled audio\n",
    "        y, sr = librosa.load(audio_path, mono =True, offset = offset, duration = duration)\n",
    "        \n",
    "        # in case the song ends\n",
    "        if(y.size == 0):\n",
    "            break\n",
    "        \n",
    "        print \"AUDIO PART\",count+1,\":\\n Starting point:\", offset,\"  Ending point:\", offset + duration\n",
    "       \n",
    "        # Spectrogram\n",
    "        S = librosa.feature.melspectrogram(y, sr=sr, n_fft=4096, hop_length=256)\n",
    "        logS = librosa.power_to_db(S, ref=np.max)\n",
    "        \n",
    "        # Apply Guassian Mixture model\n",
    "#         gmm_rap = GaussianMixture(n_components = n_components, covariance_type = covariance_type)\n",
    "#         gmm_rap.fit(logS)\n",
    "        score = gmm.score(logS)\n",
    "        print \"SCORE\",score\n",
    "        \n",
    "        # Move to next audio slice\n",
    "        offset = offset + duration\n",
    "        \n",
    "        \n",
    "        # If successful print DONE\n",
    "        print \" Done!\"\n",
    "        count += 1\n",
    "        \n",
    "    print(\"GMM TESTING SUCCESSFUL!\")\n",
    "                    \n",
    "        \n",
    "# test_sample_audio(60,'music3.mp3')\n",
    "\n",
    "\n",
    "## WILL FIX THE ERROR IN A BIT"
   ]
  },
  {
   "cell_type": "code",
   "execution_count": 106,
   "metadata": {
    "collapsed": true
   },
   "outputs": [],
   "source": [
    "# y, sr = librosa.load('music3.mp3', mono =True)\n",
    "# ipd.Audio(y, rate=sr)"
   ]
  },
  {
   "cell_type": "code",
   "execution_count": null,
   "metadata": {
    "collapsed": true
   },
   "outputs": [],
   "source": []
  },
  {
   "cell_type": "code",
   "execution_count": null,
   "metadata": {
    "collapsed": true
   },
   "outputs": [],
   "source": [
    "## IGNORE BELOW"
   ]
  },
  {
   "cell_type": "code",
   "execution_count": null,
   "metadata": {
    "collapsed": true
   },
   "outputs": [],
   "source": [
    "S = librosa.feature.melspectrogram(y, sr=sr, n_fft=4096, hop_length=256)\n",
    "logS = librosa.power_to_db(S, ref=np.max)"
   ]
  },
  {
   "cell_type": "code",
   "execution_count": null,
   "metadata": {
    "collapsed": true
   },
   "outputs": [],
   "source": [
    "##### "
   ]
  },
  {
   "cell_type": "code",
   "execution_count": 69,
   "metadata": {
    "collapsed": true
   },
   "outputs": [],
   "source": [
    "# data"
   ]
  },
  {
   "cell_type": "code",
   "execution_count": 24,
   "metadata": {
    "collapsed": true
   },
   "outputs": [],
   "source": [
    "from sklearn.mixture import GaussianMixture"
   ]
  },
  {
   "cell_type": "code",
   "execution_count": 44,
   "metadata": {
    "collapsed": true
   },
   "outputs": [],
   "source": [
    "gmm_rap = GaussianMixture(n_components=10, covariance_type = 'tied')"
   ]
  },
  {
   "cell_type": "code",
   "execution_count": 26,
   "metadata": {},
   "outputs": [
    {
     "data": {
      "text/plain": [
       "GaussianMixture(covariance_type='full', init_params='kmeans', max_iter=100,\n",
       "        means_init=None, n_components=5, n_init=1, precisions_init=None,\n",
       "        random_state=None, reg_covar=1e-06, tol=0.001, verbose=0,\n",
       "        verbose_interval=10, warm_start=False, weights_init=None)"
      ]
     },
     "execution_count": 26,
     "metadata": {},
     "output_type": "execute_result"
    }
   ],
   "source": [
    "gmm_rap.fit(logS)\n"
   ]
  },
  {
   "cell_type": "code",
   "execution_count": null,
   "metadata": {
    "collapsed": true
   },
   "outputs": [],
   "source": []
  },
  {
   "cell_type": "code",
   "execution_count": null,
   "metadata": {
    "collapsed": true
   },
   "outputs": [],
   "source": []
  }
 ],
 "metadata": {
  "kernelspec": {
   "display_name": "Python 2",
   "language": "python",
   "name": "python2"
  },
  "language_info": {
   "codemirror_mode": {
    "name": "ipython",
    "version": 2
   },
   "file_extension": ".py",
   "mimetype": "text/x-python",
   "name": "python",
   "nbconvert_exporter": "python",
   "pygments_lexer": "ipython2",
   "version": "2.7.14"
  }
 },
 "nbformat": 4,
 "nbformat_minor": 2
}
