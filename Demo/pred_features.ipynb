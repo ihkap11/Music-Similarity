{
 "cells": [
  {
   "cell_type": "code",
   "execution_count": 1,
   "metadata": {
    "collapsed": true
   },
   "outputs": [],
   "source": [
    "import pandas as pd\n",
    "import numpy as np"
   ]
  },
  {
   "cell_type": "code",
   "execution_count": 2,
   "metadata": {},
   "outputs": [],
   "source": [
    "features = pd.read_csv(\"features.csv\", low_memory= False)"
   ]
  },
  {
   "cell_type": "code",
   "execution_count": 3,
   "metadata": {},
   "outputs": [
    {
     "data": {
      "text/html": [
       "<div>\n",
       "<style>\n",
       "    .dataframe thead tr:only-child th {\n",
       "        text-align: right;\n",
       "    }\n",
       "\n",
       "    .dataframe thead th {\n",
       "        text-align: left;\n",
       "    }\n",
       "\n",
       "    .dataframe tbody tr th {\n",
       "        vertical-align: top;\n",
       "    }\n",
       "</style>\n",
       "<table border=\"1\" class=\"dataframe\">\n",
       "  <thead>\n",
       "    <tr style=\"text-align: right;\">\n",
       "      <th></th>\n",
       "      <th>feature</th>\n",
       "      <th>chroma_cens</th>\n",
       "      <th>chroma_cens.1</th>\n",
       "      <th>chroma_cens.2</th>\n",
       "      <th>chroma_cens.3</th>\n",
       "      <th>chroma_cens.4</th>\n",
       "      <th>chroma_cens.5</th>\n",
       "      <th>chroma_cens.6</th>\n",
       "      <th>chroma_cens.7</th>\n",
       "      <th>chroma_cens.8</th>\n",
       "      <th>...</th>\n",
       "      <th>tonnetz.39</th>\n",
       "      <th>tonnetz.40</th>\n",
       "      <th>tonnetz.41</th>\n",
       "      <th>zcr</th>\n",
       "      <th>zcr.1</th>\n",
       "      <th>zcr.2</th>\n",
       "      <th>zcr.3</th>\n",
       "      <th>zcr.4</th>\n",
       "      <th>zcr.5</th>\n",
       "      <th>zcr.6</th>\n",
       "    </tr>\n",
       "  </thead>\n",
       "  <tbody>\n",
       "    <tr>\n",
       "      <th>0</th>\n",
       "      <td>statistics</td>\n",
       "      <td>kurtosis</td>\n",
       "      <td>kurtosis</td>\n",
       "      <td>kurtosis</td>\n",
       "      <td>kurtosis</td>\n",
       "      <td>kurtosis</td>\n",
       "      <td>kurtosis</td>\n",
       "      <td>kurtosis</td>\n",
       "      <td>kurtosis</td>\n",
       "      <td>kurtosis</td>\n",
       "      <td>...</td>\n",
       "      <td>std</td>\n",
       "      <td>std</td>\n",
       "      <td>std</td>\n",
       "      <td>kurtosis</td>\n",
       "      <td>max</td>\n",
       "      <td>mean</td>\n",
       "      <td>median</td>\n",
       "      <td>min</td>\n",
       "      <td>skew</td>\n",
       "      <td>std</td>\n",
       "    </tr>\n",
       "    <tr>\n",
       "      <th>1</th>\n",
       "      <td>number</td>\n",
       "      <td>01</td>\n",
       "      <td>02</td>\n",
       "      <td>03</td>\n",
       "      <td>04</td>\n",
       "      <td>05</td>\n",
       "      <td>06</td>\n",
       "      <td>07</td>\n",
       "      <td>08</td>\n",
       "      <td>09</td>\n",
       "      <td>...</td>\n",
       "      <td>04</td>\n",
       "      <td>05</td>\n",
       "      <td>06</td>\n",
       "      <td>01</td>\n",
       "      <td>01</td>\n",
       "      <td>01</td>\n",
       "      <td>01</td>\n",
       "      <td>01</td>\n",
       "      <td>01</td>\n",
       "      <td>01</td>\n",
       "    </tr>\n",
       "    <tr>\n",
       "      <th>2</th>\n",
       "      <td>track_id</td>\n",
       "      <td>NaN</td>\n",
       "      <td>NaN</td>\n",
       "      <td>NaN</td>\n",
       "      <td>NaN</td>\n",
       "      <td>NaN</td>\n",
       "      <td>NaN</td>\n",
       "      <td>NaN</td>\n",
       "      <td>NaN</td>\n",
       "      <td>NaN</td>\n",
       "      <td>...</td>\n",
       "      <td>NaN</td>\n",
       "      <td>NaN</td>\n",
       "      <td>NaN</td>\n",
       "      <td>NaN</td>\n",
       "      <td>NaN</td>\n",
       "      <td>NaN</td>\n",
       "      <td>NaN</td>\n",
       "      <td>NaN</td>\n",
       "      <td>NaN</td>\n",
       "      <td>NaN</td>\n",
       "    </tr>\n",
       "    <tr>\n",
       "      <th>3</th>\n",
       "      <td>2</td>\n",
       "      <td>7.1806526184e+00</td>\n",
       "      <td>5.2303090096e+00</td>\n",
       "      <td>2.4932080507e-01</td>\n",
       "      <td>1.3476201296e+00</td>\n",
       "      <td>1.4824777842e+00</td>\n",
       "      <td>5.3137123585e-01</td>\n",
       "      <td>1.4815930128e+00</td>\n",
       "      <td>2.6914546490e+00</td>\n",
       "      <td>8.6686819792e-01</td>\n",
       "      <td>...</td>\n",
       "      <td>5.4125156254e-02</td>\n",
       "      <td>1.2225749902e-02</td>\n",
       "      <td>1.2110591866e-02</td>\n",
       "      <td>5.7588901520e+00</td>\n",
       "      <td>4.5947265625e-01</td>\n",
       "      <td>8.5629448295e-02</td>\n",
       "      <td>7.1289062500e-02</td>\n",
       "      <td>0.0000000000e+00</td>\n",
       "      <td>2.0898721218e+00</td>\n",
       "      <td>6.1448108405e-02</td>\n",
       "    </tr>\n",
       "    <tr>\n",
       "      <th>4</th>\n",
       "      <td>3</td>\n",
       "      <td>1.8889633417e+00</td>\n",
       "      <td>7.6053929329e-01</td>\n",
       "      <td>3.4529656172e-01</td>\n",
       "      <td>2.2952005863e+00</td>\n",
       "      <td>1.6540306807e+00</td>\n",
       "      <td>6.7592434585e-02</td>\n",
       "      <td>1.3668476343e+00</td>\n",
       "      <td>1.0540937185e+00</td>\n",
       "      <td>1.0810308903e-01</td>\n",
       "      <td>...</td>\n",
       "      <td>6.3831120729e-02</td>\n",
       "      <td>1.4211839065e-02</td>\n",
       "      <td>1.7740072682e-02</td>\n",
       "      <td>2.8246941566e+00</td>\n",
       "      <td>4.6630859375e-01</td>\n",
       "      <td>8.4578499198e-02</td>\n",
       "      <td>6.3964843750e-02</td>\n",
       "      <td>0.0000000000e+00</td>\n",
       "      <td>1.7167237997e+00</td>\n",
       "      <td>6.9330163300e-02</td>\n",
       "    </tr>\n",
       "  </tbody>\n",
       "</table>\n",
       "<p>5 rows × 519 columns</p>\n",
       "</div>"
      ],
      "text/plain": [
       "      feature       chroma_cens     chroma_cens.1     chroma_cens.2  \\\n",
       "0  statistics          kurtosis          kurtosis          kurtosis   \n",
       "1      number                01                02                03   \n",
       "2    track_id               NaN               NaN               NaN   \n",
       "3           2  7.1806526184e+00  5.2303090096e+00  2.4932080507e-01   \n",
       "4           3  1.8889633417e+00  7.6053929329e-01  3.4529656172e-01   \n",
       "\n",
       "      chroma_cens.3     chroma_cens.4     chroma_cens.5     chroma_cens.6  \\\n",
       "0          kurtosis          kurtosis          kurtosis          kurtosis   \n",
       "1                04                05                06                07   \n",
       "2               NaN               NaN               NaN               NaN   \n",
       "3  1.3476201296e+00  1.4824777842e+00  5.3137123585e-01  1.4815930128e+00   \n",
       "4  2.2952005863e+00  1.6540306807e+00  6.7592434585e-02  1.3668476343e+00   \n",
       "\n",
       "      chroma_cens.7     chroma_cens.8        ...               tonnetz.39  \\\n",
       "0          kurtosis          kurtosis        ...                      std   \n",
       "1                08                09        ...                       04   \n",
       "2               NaN               NaN        ...                      NaN   \n",
       "3  2.6914546490e+00  8.6686819792e-01        ...         5.4125156254e-02   \n",
       "4  1.0540937185e+00  1.0810308903e-01        ...         6.3831120729e-02   \n",
       "\n",
       "         tonnetz.40        tonnetz.41               zcr             zcr.1  \\\n",
       "0               std               std          kurtosis               max   \n",
       "1                05                06                01                01   \n",
       "2               NaN               NaN               NaN               NaN   \n",
       "3  1.2225749902e-02  1.2110591866e-02  5.7588901520e+00  4.5947265625e-01   \n",
       "4  1.4211839065e-02  1.7740072682e-02  2.8246941566e+00  4.6630859375e-01   \n",
       "\n",
       "              zcr.2             zcr.3             zcr.4             zcr.5  \\\n",
       "0              mean            median               min              skew   \n",
       "1                01                01                01                01   \n",
       "2               NaN               NaN               NaN               NaN   \n",
       "3  8.5629448295e-02  7.1289062500e-02  0.0000000000e+00  2.0898721218e+00   \n",
       "4  8.4578499198e-02  6.3964843750e-02  0.0000000000e+00  1.7167237997e+00   \n",
       "\n",
       "              zcr.6  \n",
       "0               std  \n",
       "1                01  \n",
       "2               NaN  \n",
       "3  6.1448108405e-02  \n",
       "4  6.9330163300e-02  \n",
       "\n",
       "[5 rows x 519 columns]"
      ]
     },
     "execution_count": 3,
     "metadata": {},
     "output_type": "execute_result"
    }
   ],
   "source": [
    "features.head()"
   ]
  },
  {
   "cell_type": "code",
   "execution_count": 4,
   "metadata": {
    "collapsed": true
   },
   "outputs": [],
   "source": [
    "features.drop([0,1,2], inplace = True)"
   ]
  },
  {
   "cell_type": "code",
   "execution_count": 5,
   "metadata": {},
   "outputs": [],
   "source": [
    "features.set_index(\"feature\", inplace = True)"
   ]
  },
  {
   "cell_type": "code",
   "execution_count": null,
   "metadata": {
    "collapsed": true
   },
   "outputs": [],
   "source": []
  },
  {
   "cell_type": "code",
   "execution_count": null,
   "metadata": {
    "collapsed": true
   },
   "outputs": [],
   "source": []
  },
  {
   "cell_type": "code",
   "execution_count": 7,
   "metadata": {
    "collapsed": true
   },
   "outputs": [],
   "source": [
    "echonest = pd.read_csv(\"echonest.csv\", low_memory=False)"
   ]
  },
  {
   "cell_type": "code",
   "execution_count": 8,
   "metadata": {},
   "outputs": [
    {
     "data": {
      "text/html": [
       "<div>\n",
       "<style>\n",
       "    .dataframe thead tr:only-child th {\n",
       "        text-align: right;\n",
       "    }\n",
       "\n",
       "    .dataframe thead th {\n",
       "        text-align: left;\n",
       "    }\n",
       "\n",
       "    .dataframe tbody tr th {\n",
       "        vertical-align: top;\n",
       "    }\n",
       "</style>\n",
       "<table border=\"1\" class=\"dataframe\">\n",
       "  <thead>\n",
       "    <tr style=\"text-align: right;\">\n",
       "      <th></th>\n",
       "      <th>Unnamed: 0</th>\n",
       "      <th>echonest</th>\n",
       "      <th>echonest.1</th>\n",
       "      <th>echonest.2</th>\n",
       "      <th>echonest.3</th>\n",
       "      <th>echonest.4</th>\n",
       "      <th>echonest.5</th>\n",
       "      <th>echonest.6</th>\n",
       "      <th>echonest.7</th>\n",
       "      <th>echonest.8</th>\n",
       "      <th>...</th>\n",
       "      <th>echonest.239</th>\n",
       "      <th>echonest.240</th>\n",
       "      <th>echonest.241</th>\n",
       "      <th>echonest.242</th>\n",
       "      <th>echonest.243</th>\n",
       "      <th>echonest.244</th>\n",
       "      <th>echonest.245</th>\n",
       "      <th>echonest.246</th>\n",
       "      <th>echonest.247</th>\n",
       "      <th>echonest.248</th>\n",
       "    </tr>\n",
       "  </thead>\n",
       "  <tbody>\n",
       "    <tr>\n",
       "      <th>0</th>\n",
       "      <td>NaN</td>\n",
       "      <td>audio_features</td>\n",
       "      <td>audio_features</td>\n",
       "      <td>audio_features</td>\n",
       "      <td>audio_features</td>\n",
       "      <td>audio_features</td>\n",
       "      <td>audio_features</td>\n",
       "      <td>audio_features</td>\n",
       "      <td>audio_features</td>\n",
       "      <td>metadata</td>\n",
       "      <td>...</td>\n",
       "      <td>temporal_features</td>\n",
       "      <td>temporal_features</td>\n",
       "      <td>temporal_features</td>\n",
       "      <td>temporal_features</td>\n",
       "      <td>temporal_features</td>\n",
       "      <td>temporal_features</td>\n",
       "      <td>temporal_features</td>\n",
       "      <td>temporal_features</td>\n",
       "      <td>temporal_features</td>\n",
       "      <td>temporal_features</td>\n",
       "    </tr>\n",
       "    <tr>\n",
       "      <th>1</th>\n",
       "      <td>NaN</td>\n",
       "      <td>acousticness</td>\n",
       "      <td>danceability</td>\n",
       "      <td>energy</td>\n",
       "      <td>instrumentalness</td>\n",
       "      <td>liveness</td>\n",
       "      <td>speechiness</td>\n",
       "      <td>tempo</td>\n",
       "      <td>valence</td>\n",
       "      <td>album_date</td>\n",
       "      <td>...</td>\n",
       "      <td>214</td>\n",
       "      <td>215</td>\n",
       "      <td>216</td>\n",
       "      <td>217</td>\n",
       "      <td>218</td>\n",
       "      <td>219</td>\n",
       "      <td>220</td>\n",
       "      <td>221</td>\n",
       "      <td>222</td>\n",
       "      <td>223</td>\n",
       "    </tr>\n",
       "    <tr>\n",
       "      <th>2</th>\n",
       "      <td>track_id</td>\n",
       "      <td>NaN</td>\n",
       "      <td>NaN</td>\n",
       "      <td>NaN</td>\n",
       "      <td>NaN</td>\n",
       "      <td>NaN</td>\n",
       "      <td>NaN</td>\n",
       "      <td>NaN</td>\n",
       "      <td>NaN</td>\n",
       "      <td>NaN</td>\n",
       "      <td>...</td>\n",
       "      <td>NaN</td>\n",
       "      <td>NaN</td>\n",
       "      <td>NaN</td>\n",
       "      <td>NaN</td>\n",
       "      <td>NaN</td>\n",
       "      <td>NaN</td>\n",
       "      <td>NaN</td>\n",
       "      <td>NaN</td>\n",
       "      <td>NaN</td>\n",
       "      <td>NaN</td>\n",
       "    </tr>\n",
       "    <tr>\n",
       "      <th>3</th>\n",
       "      <td>2</td>\n",
       "      <td>0.4166752327</td>\n",
       "      <td>0.6758939853</td>\n",
       "      <td>0.6344762684</td>\n",
       "      <td>0.0106280683</td>\n",
       "      <td>0.1776465712</td>\n",
       "      <td>0.1593100648</td>\n",
       "      <td>165.9220000000</td>\n",
       "      <td>0.5766609880</td>\n",
       "      <td>NaN</td>\n",
       "      <td>...</td>\n",
       "      <td>-1.9923025370</td>\n",
       "      <td>6.8056936264</td>\n",
       "      <td>0.2330697626</td>\n",
       "      <td>0.1928800046</td>\n",
       "      <td>0.0274549890</td>\n",
       "      <td>0.0640799999</td>\n",
       "      <td>3.6769599915</td>\n",
       "      <td>3.6128799915</td>\n",
       "      <td>13.3166904449</td>\n",
       "      <td>262.9297485352</td>\n",
       "    </tr>\n",
       "    <tr>\n",
       "      <th>4</th>\n",
       "      <td>3</td>\n",
       "      <td>0.3744077685</td>\n",
       "      <td>0.5286430621</td>\n",
       "      <td>0.8174611317</td>\n",
       "      <td>0.0018511032</td>\n",
       "      <td>0.1058799438</td>\n",
       "      <td>0.4618181276</td>\n",
       "      <td>126.9570000000</td>\n",
       "      <td>0.2692402421</td>\n",
       "      <td>NaN</td>\n",
       "      <td>...</td>\n",
       "      <td>-1.5823311806</td>\n",
       "      <td>8.8893079758</td>\n",
       "      <td>0.2584637702</td>\n",
       "      <td>0.2209050059</td>\n",
       "      <td>0.0813684240</td>\n",
       "      <td>0.0641300008</td>\n",
       "      <td>6.0827698708</td>\n",
       "      <td>6.0186400414</td>\n",
       "      <td>16.6735477448</td>\n",
       "      <td>325.5810852051</td>\n",
       "    </tr>\n",
       "  </tbody>\n",
       "</table>\n",
       "<p>5 rows × 250 columns</p>\n",
       "</div>"
      ],
      "text/plain": [
       "  Unnamed: 0        echonest      echonest.1      echonest.2  \\\n",
       "0        NaN  audio_features  audio_features  audio_features   \n",
       "1        NaN    acousticness    danceability          energy   \n",
       "2   track_id             NaN             NaN             NaN   \n",
       "3          2    0.4166752327    0.6758939853    0.6344762684   \n",
       "4          3    0.3744077685    0.5286430621    0.8174611317   \n",
       "\n",
       "         echonest.3      echonest.4      echonest.5      echonest.6  \\\n",
       "0    audio_features  audio_features  audio_features  audio_features   \n",
       "1  instrumentalness        liveness     speechiness           tempo   \n",
       "2               NaN             NaN             NaN             NaN   \n",
       "3      0.0106280683    0.1776465712    0.1593100648  165.9220000000   \n",
       "4      0.0018511032    0.1058799438    0.4618181276  126.9570000000   \n",
       "\n",
       "       echonest.7  echonest.8        ...               echonest.239  \\\n",
       "0  audio_features    metadata        ...          temporal_features   \n",
       "1         valence  album_date        ...                        214   \n",
       "2             NaN         NaN        ...                        NaN   \n",
       "3    0.5766609880         NaN        ...              -1.9923025370   \n",
       "4    0.2692402421         NaN        ...              -1.5823311806   \n",
       "\n",
       "        echonest.240       echonest.241       echonest.242       echonest.243  \\\n",
       "0  temporal_features  temporal_features  temporal_features  temporal_features   \n",
       "1                215                216                217                218   \n",
       "2                NaN                NaN                NaN                NaN   \n",
       "3       6.8056936264       0.2330697626       0.1928800046       0.0274549890   \n",
       "4       8.8893079758       0.2584637702       0.2209050059       0.0813684240   \n",
       "\n",
       "        echonest.244       echonest.245       echonest.246       echonest.247  \\\n",
       "0  temporal_features  temporal_features  temporal_features  temporal_features   \n",
       "1                219                220                221                222   \n",
       "2                NaN                NaN                NaN                NaN   \n",
       "3       0.0640799999       3.6769599915       3.6128799915      13.3166904449   \n",
       "4       0.0641300008       6.0827698708       6.0186400414      16.6735477448   \n",
       "\n",
       "        echonest.248  \n",
       "0  temporal_features  \n",
       "1                223  \n",
       "2                NaN  \n",
       "3     262.9297485352  \n",
       "4     325.5810852051  \n",
       "\n",
       "[5 rows x 250 columns]"
      ]
     },
     "execution_count": 8,
     "metadata": {},
     "output_type": "execute_result"
    }
   ],
   "source": [
    "echonest.head()"
   ]
  },
  {
   "cell_type": "code",
   "execution_count": 9,
   "metadata": {
    "collapsed": true
   },
   "outputs": [],
   "source": [
    "echonest.drop([0,2], inplace = True)"
   ]
  },
  {
   "cell_type": "code",
   "execution_count": 10,
   "metadata": {},
   "outputs": [
    {
     "data": {
      "text/html": [
       "<div>\n",
       "<style>\n",
       "    .dataframe thead tr:only-child th {\n",
       "        text-align: right;\n",
       "    }\n",
       "\n",
       "    .dataframe thead th {\n",
       "        text-align: left;\n",
       "    }\n",
       "\n",
       "    .dataframe tbody tr th {\n",
       "        vertical-align: top;\n",
       "    }\n",
       "</style>\n",
       "<table border=\"1\" class=\"dataframe\">\n",
       "  <thead>\n",
       "    <tr style=\"text-align: right;\">\n",
       "      <th></th>\n",
       "      <th>Unnamed: 0</th>\n",
       "      <th>echonest</th>\n",
       "      <th>echonest.1</th>\n",
       "      <th>echonest.2</th>\n",
       "      <th>echonest.3</th>\n",
       "      <th>echonest.4</th>\n",
       "      <th>echonest.5</th>\n",
       "      <th>echonest.6</th>\n",
       "      <th>echonest.7</th>\n",
       "      <th>echonest.8</th>\n",
       "      <th>...</th>\n",
       "      <th>echonest.239</th>\n",
       "      <th>echonest.240</th>\n",
       "      <th>echonest.241</th>\n",
       "      <th>echonest.242</th>\n",
       "      <th>echonest.243</th>\n",
       "      <th>echonest.244</th>\n",
       "      <th>echonest.245</th>\n",
       "      <th>echonest.246</th>\n",
       "      <th>echonest.247</th>\n",
       "      <th>echonest.248</th>\n",
       "    </tr>\n",
       "  </thead>\n",
       "  <tbody>\n",
       "    <tr>\n",
       "      <th>1</th>\n",
       "      <td>NaN</td>\n",
       "      <td>acousticness</td>\n",
       "      <td>danceability</td>\n",
       "      <td>energy</td>\n",
       "      <td>instrumentalness</td>\n",
       "      <td>liveness</td>\n",
       "      <td>speechiness</td>\n",
       "      <td>tempo</td>\n",
       "      <td>valence</td>\n",
       "      <td>album_date</td>\n",
       "      <td>...</td>\n",
       "      <td>214</td>\n",
       "      <td>215</td>\n",
       "      <td>216</td>\n",
       "      <td>217</td>\n",
       "      <td>218</td>\n",
       "      <td>219</td>\n",
       "      <td>220</td>\n",
       "      <td>221</td>\n",
       "      <td>222</td>\n",
       "      <td>223</td>\n",
       "    </tr>\n",
       "    <tr>\n",
       "      <th>3</th>\n",
       "      <td>2</td>\n",
       "      <td>0.4166752327</td>\n",
       "      <td>0.6758939853</td>\n",
       "      <td>0.6344762684</td>\n",
       "      <td>0.0106280683</td>\n",
       "      <td>0.1776465712</td>\n",
       "      <td>0.1593100648</td>\n",
       "      <td>165.9220000000</td>\n",
       "      <td>0.5766609880</td>\n",
       "      <td>NaN</td>\n",
       "      <td>...</td>\n",
       "      <td>-1.9923025370</td>\n",
       "      <td>6.8056936264</td>\n",
       "      <td>0.2330697626</td>\n",
       "      <td>0.1928800046</td>\n",
       "      <td>0.0274549890</td>\n",
       "      <td>0.0640799999</td>\n",
       "      <td>3.6769599915</td>\n",
       "      <td>3.6128799915</td>\n",
       "      <td>13.3166904449</td>\n",
       "      <td>262.9297485352</td>\n",
       "    </tr>\n",
       "    <tr>\n",
       "      <th>4</th>\n",
       "      <td>3</td>\n",
       "      <td>0.3744077685</td>\n",
       "      <td>0.5286430621</td>\n",
       "      <td>0.8174611317</td>\n",
       "      <td>0.0018511032</td>\n",
       "      <td>0.1058799438</td>\n",
       "      <td>0.4618181276</td>\n",
       "      <td>126.9570000000</td>\n",
       "      <td>0.2692402421</td>\n",
       "      <td>NaN</td>\n",
       "      <td>...</td>\n",
       "      <td>-1.5823311806</td>\n",
       "      <td>8.8893079758</td>\n",
       "      <td>0.2584637702</td>\n",
       "      <td>0.2209050059</td>\n",
       "      <td>0.0813684240</td>\n",
       "      <td>0.0641300008</td>\n",
       "      <td>6.0827698708</td>\n",
       "      <td>6.0186400414</td>\n",
       "      <td>16.6735477448</td>\n",
       "      <td>325.5810852051</td>\n",
       "    </tr>\n",
       "    <tr>\n",
       "      <th>5</th>\n",
       "      <td>5</td>\n",
       "      <td>0.0435668989</td>\n",
       "      <td>0.7455658702</td>\n",
       "      <td>0.7014699916</td>\n",
       "      <td>0.0006967990</td>\n",
       "      <td>0.3731433124</td>\n",
       "      <td>0.1245953419</td>\n",
       "      <td>100.2600000000</td>\n",
       "      <td>0.6216612236</td>\n",
       "      <td>NaN</td>\n",
       "      <td>...</td>\n",
       "      <td>-2.2883579731</td>\n",
       "      <td>11.5271091461</td>\n",
       "      <td>0.2568213642</td>\n",
       "      <td>0.2378199995</td>\n",
       "      <td>0.0601223968</td>\n",
       "      <td>0.0601399988</td>\n",
       "      <td>5.9264898300</td>\n",
       "      <td>5.8663496971</td>\n",
       "      <td>16.0138492584</td>\n",
       "      <td>356.7557373047</td>\n",
       "    </tr>\n",
       "    <tr>\n",
       "      <th>6</th>\n",
       "      <td>10</td>\n",
       "      <td>0.9516699648</td>\n",
       "      <td>0.6581786543</td>\n",
       "      <td>0.9245251615</td>\n",
       "      <td>0.9654270154</td>\n",
       "      <td>0.1154738842</td>\n",
       "      <td>0.0329852191</td>\n",
       "      <td>111.5620000000</td>\n",
       "      <td>0.9635898919</td>\n",
       "      <td>2008-03-11</td>\n",
       "      <td>...</td>\n",
       "      <td>-3.6629877090</td>\n",
       "      <td>21.5082283020</td>\n",
       "      <td>0.2833518982</td>\n",
       "      <td>0.2670699954</td>\n",
       "      <td>0.1257044971</td>\n",
       "      <td>0.0808200017</td>\n",
       "      <td>8.4140100479</td>\n",
       "      <td>8.3331899643</td>\n",
       "      <td>21.3170642853</td>\n",
       "      <td>483.4038085938</td>\n",
       "    </tr>\n",
       "  </tbody>\n",
       "</table>\n",
       "<p>5 rows × 250 columns</p>\n",
       "</div>"
      ],
      "text/plain": [
       "  Unnamed: 0      echonest    echonest.1    echonest.2        echonest.3  \\\n",
       "1        NaN  acousticness  danceability        energy  instrumentalness   \n",
       "3          2  0.4166752327  0.6758939853  0.6344762684      0.0106280683   \n",
       "4          3  0.3744077685  0.5286430621  0.8174611317      0.0018511032   \n",
       "5          5  0.0435668989  0.7455658702  0.7014699916      0.0006967990   \n",
       "6         10  0.9516699648  0.6581786543  0.9245251615      0.9654270154   \n",
       "\n",
       "     echonest.4    echonest.5      echonest.6    echonest.7  echonest.8  \\\n",
       "1      liveness   speechiness           tempo       valence  album_date   \n",
       "3  0.1776465712  0.1593100648  165.9220000000  0.5766609880         NaN   \n",
       "4  0.1058799438  0.4618181276  126.9570000000  0.2692402421         NaN   \n",
       "5  0.3731433124  0.1245953419  100.2600000000  0.6216612236         NaN   \n",
       "6  0.1154738842  0.0329852191  111.5620000000  0.9635898919  2008-03-11   \n",
       "\n",
       "        ...         echonest.239   echonest.240  echonest.241  echonest.242  \\\n",
       "1       ...                  214            215           216           217   \n",
       "3       ...        -1.9923025370   6.8056936264  0.2330697626  0.1928800046   \n",
       "4       ...        -1.5823311806   8.8893079758  0.2584637702  0.2209050059   \n",
       "5       ...        -2.2883579731  11.5271091461  0.2568213642  0.2378199995   \n",
       "6       ...        -3.6629877090  21.5082283020  0.2833518982  0.2670699954   \n",
       "\n",
       "   echonest.243  echonest.244  echonest.245  echonest.246   echonest.247  \\\n",
       "1           218           219           220           221            222   \n",
       "3  0.0274549890  0.0640799999  3.6769599915  3.6128799915  13.3166904449   \n",
       "4  0.0813684240  0.0641300008  6.0827698708  6.0186400414  16.6735477448   \n",
       "5  0.0601223968  0.0601399988  5.9264898300  5.8663496971  16.0138492584   \n",
       "6  0.1257044971  0.0808200017  8.4140100479  8.3331899643  21.3170642853   \n",
       "\n",
       "     echonest.248  \n",
       "1             223  \n",
       "3  262.9297485352  \n",
       "4  325.5810852051  \n",
       "5  356.7557373047  \n",
       "6  483.4038085938  \n",
       "\n",
       "[5 rows x 250 columns]"
      ]
     },
     "execution_count": 10,
     "metadata": {},
     "output_type": "execute_result"
    }
   ],
   "source": [
    "echonest.head()"
   ]
  },
  {
   "cell_type": "code",
   "execution_count": 11,
   "metadata": {},
   "outputs": [],
   "source": [
    "echonest.columns = echonest.iloc[0]"
   ]
  },
  {
   "cell_type": "code",
   "execution_count": 12,
   "metadata": {},
   "outputs": [],
   "source": [
    "echonest = echonest.set_index(np.nan)"
   ]
  },
  {
   "cell_type": "code",
   "execution_count": 13,
   "metadata": {},
   "outputs": [
    {
     "data": {
      "text/html": [
       "<div>\n",
       "<style>\n",
       "    .dataframe thead tr:only-child th {\n",
       "        text-align: right;\n",
       "    }\n",
       "\n",
       "    .dataframe thead th {\n",
       "        text-align: left;\n",
       "    }\n",
       "\n",
       "    .dataframe tbody tr th {\n",
       "        vertical-align: top;\n",
       "    }\n",
       "</style>\n",
       "<table border=\"1\" class=\"dataframe\">\n",
       "  <thead>\n",
       "    <tr style=\"text-align: right;\">\n",
       "      <th>1</th>\n",
       "      <th>acousticness</th>\n",
       "      <th>danceability</th>\n",
       "      <th>energy</th>\n",
       "      <th>instrumentalness</th>\n",
       "      <th>liveness</th>\n",
       "      <th>speechiness</th>\n",
       "      <th>tempo</th>\n",
       "      <th>valence</th>\n",
       "      <th>album_date</th>\n",
       "      <th>album_name</th>\n",
       "      <th>...</th>\n",
       "      <th>214</th>\n",
       "      <th>215</th>\n",
       "      <th>216</th>\n",
       "      <th>217</th>\n",
       "      <th>218</th>\n",
       "      <th>219</th>\n",
       "      <th>220</th>\n",
       "      <th>221</th>\n",
       "      <th>222</th>\n",
       "      <th>223</th>\n",
       "    </tr>\n",
       "    <tr>\n",
       "      <th>nan</th>\n",
       "      <th></th>\n",
       "      <th></th>\n",
       "      <th></th>\n",
       "      <th></th>\n",
       "      <th></th>\n",
       "      <th></th>\n",
       "      <th></th>\n",
       "      <th></th>\n",
       "      <th></th>\n",
       "      <th></th>\n",
       "      <th></th>\n",
       "      <th></th>\n",
       "      <th></th>\n",
       "      <th></th>\n",
       "      <th></th>\n",
       "      <th></th>\n",
       "      <th></th>\n",
       "      <th></th>\n",
       "      <th></th>\n",
       "      <th></th>\n",
       "      <th></th>\n",
       "    </tr>\n",
       "  </thead>\n",
       "  <tbody>\n",
       "    <tr>\n",
       "      <th>NaN</th>\n",
       "      <td>acousticness</td>\n",
       "      <td>danceability</td>\n",
       "      <td>energy</td>\n",
       "      <td>instrumentalness</td>\n",
       "      <td>liveness</td>\n",
       "      <td>speechiness</td>\n",
       "      <td>tempo</td>\n",
       "      <td>valence</td>\n",
       "      <td>album_date</td>\n",
       "      <td>album_name</td>\n",
       "      <td>...</td>\n",
       "      <td>214</td>\n",
       "      <td>215</td>\n",
       "      <td>216</td>\n",
       "      <td>217</td>\n",
       "      <td>218</td>\n",
       "      <td>219</td>\n",
       "      <td>220</td>\n",
       "      <td>221</td>\n",
       "      <td>222</td>\n",
       "      <td>223</td>\n",
       "    </tr>\n",
       "    <tr>\n",
       "      <th>2</th>\n",
       "      <td>0.4166752327</td>\n",
       "      <td>0.6758939853</td>\n",
       "      <td>0.6344762684</td>\n",
       "      <td>0.0106280683</td>\n",
       "      <td>0.1776465712</td>\n",
       "      <td>0.1593100648</td>\n",
       "      <td>165.9220000000</td>\n",
       "      <td>0.5766609880</td>\n",
       "      <td>NaN</td>\n",
       "      <td>NaN</td>\n",
       "      <td>...</td>\n",
       "      <td>-1.9923025370</td>\n",
       "      <td>6.8056936264</td>\n",
       "      <td>0.2330697626</td>\n",
       "      <td>0.1928800046</td>\n",
       "      <td>0.0274549890</td>\n",
       "      <td>0.0640799999</td>\n",
       "      <td>3.6769599915</td>\n",
       "      <td>3.6128799915</td>\n",
       "      <td>13.3166904449</td>\n",
       "      <td>262.9297485352</td>\n",
       "    </tr>\n",
       "    <tr>\n",
       "      <th>3</th>\n",
       "      <td>0.3744077685</td>\n",
       "      <td>0.5286430621</td>\n",
       "      <td>0.8174611317</td>\n",
       "      <td>0.0018511032</td>\n",
       "      <td>0.1058799438</td>\n",
       "      <td>0.4618181276</td>\n",
       "      <td>126.9570000000</td>\n",
       "      <td>0.2692402421</td>\n",
       "      <td>NaN</td>\n",
       "      <td>NaN</td>\n",
       "      <td>...</td>\n",
       "      <td>-1.5823311806</td>\n",
       "      <td>8.8893079758</td>\n",
       "      <td>0.2584637702</td>\n",
       "      <td>0.2209050059</td>\n",
       "      <td>0.0813684240</td>\n",
       "      <td>0.0641300008</td>\n",
       "      <td>6.0827698708</td>\n",
       "      <td>6.0186400414</td>\n",
       "      <td>16.6735477448</td>\n",
       "      <td>325.5810852051</td>\n",
       "    </tr>\n",
       "    <tr>\n",
       "      <th>5</th>\n",
       "      <td>0.0435668989</td>\n",
       "      <td>0.7455658702</td>\n",
       "      <td>0.7014699916</td>\n",
       "      <td>0.0006967990</td>\n",
       "      <td>0.3731433124</td>\n",
       "      <td>0.1245953419</td>\n",
       "      <td>100.2600000000</td>\n",
       "      <td>0.6216612236</td>\n",
       "      <td>NaN</td>\n",
       "      <td>NaN</td>\n",
       "      <td>...</td>\n",
       "      <td>-2.2883579731</td>\n",
       "      <td>11.5271091461</td>\n",
       "      <td>0.2568213642</td>\n",
       "      <td>0.2378199995</td>\n",
       "      <td>0.0601223968</td>\n",
       "      <td>0.0601399988</td>\n",
       "      <td>5.9264898300</td>\n",
       "      <td>5.8663496971</td>\n",
       "      <td>16.0138492584</td>\n",
       "      <td>356.7557373047</td>\n",
       "    </tr>\n",
       "    <tr>\n",
       "      <th>10</th>\n",
       "      <td>0.9516699648</td>\n",
       "      <td>0.6581786543</td>\n",
       "      <td>0.9245251615</td>\n",
       "      <td>0.9654270154</td>\n",
       "      <td>0.1154738842</td>\n",
       "      <td>0.0329852191</td>\n",
       "      <td>111.5620000000</td>\n",
       "      <td>0.9635898919</td>\n",
       "      <td>2008-03-11</td>\n",
       "      <td>Constant Hitmaker</td>\n",
       "      <td>...</td>\n",
       "      <td>-3.6629877090</td>\n",
       "      <td>21.5082283020</td>\n",
       "      <td>0.2833518982</td>\n",
       "      <td>0.2670699954</td>\n",
       "      <td>0.1257044971</td>\n",
       "      <td>0.0808200017</td>\n",
       "      <td>8.4140100479</td>\n",
       "      <td>8.3331899643</td>\n",
       "      <td>21.3170642853</td>\n",
       "      <td>483.4038085938</td>\n",
       "    </tr>\n",
       "  </tbody>\n",
       "</table>\n",
       "<p>5 rows × 249 columns</p>\n",
       "</div>"
      ],
      "text/plain": [
       "1    acousticness  danceability        energy  instrumentalness      liveness  \\\n",
       "nan                                                                             \n",
       "NaN  acousticness  danceability        energy  instrumentalness      liveness   \n",
       "2    0.4166752327  0.6758939853  0.6344762684      0.0106280683  0.1776465712   \n",
       "3    0.3744077685  0.5286430621  0.8174611317      0.0018511032  0.1058799438   \n",
       "5    0.0435668989  0.7455658702  0.7014699916      0.0006967990  0.3731433124   \n",
       "10   0.9516699648  0.6581786543  0.9245251615      0.9654270154  0.1154738842   \n",
       "\n",
       "1     speechiness           tempo       valence  album_date  \\\n",
       "nan                                                           \n",
       "NaN   speechiness           tempo       valence  album_date   \n",
       "2    0.1593100648  165.9220000000  0.5766609880         NaN   \n",
       "3    0.4618181276  126.9570000000  0.2692402421         NaN   \n",
       "5    0.1245953419  100.2600000000  0.6216612236         NaN   \n",
       "10   0.0329852191  111.5620000000  0.9635898919  2008-03-11   \n",
       "\n",
       "1           album_name       ...                  214            215  \\\n",
       "nan                          ...                                       \n",
       "NaN         album_name       ...                  214            215   \n",
       "2                  NaN       ...        -1.9923025370   6.8056936264   \n",
       "3                  NaN       ...        -1.5823311806   8.8893079758   \n",
       "5                  NaN       ...        -2.2883579731  11.5271091461   \n",
       "10   Constant Hitmaker       ...        -3.6629877090  21.5082283020   \n",
       "\n",
       "1             216           217           218           219           220  \\\n",
       "nan                                                                         \n",
       "NaN           216           217           218           219           220   \n",
       "2    0.2330697626  0.1928800046  0.0274549890  0.0640799999  3.6769599915   \n",
       "3    0.2584637702  0.2209050059  0.0813684240  0.0641300008  6.0827698708   \n",
       "5    0.2568213642  0.2378199995  0.0601223968  0.0601399988  5.9264898300   \n",
       "10   0.2833518982  0.2670699954  0.1257044971  0.0808200017  8.4140100479   \n",
       "\n",
       "1             221            222             223  \n",
       "nan                                               \n",
       "NaN           221            222             223  \n",
       "2    3.6128799915  13.3166904449  262.9297485352  \n",
       "3    6.0186400414  16.6735477448  325.5810852051  \n",
       "5    5.8663496971  16.0138492584  356.7557373047  \n",
       "10   8.3331899643  21.3170642853  483.4038085938  \n",
       "\n",
       "[5 rows x 249 columns]"
      ]
     },
     "execution_count": 13,
     "metadata": {},
     "output_type": "execute_result"
    }
   ],
   "source": [
    "echonest.head()"
   ]
  },
  {
   "cell_type": "code",
   "execution_count": 14,
   "metadata": {},
   "outputs": [],
   "source": [
    "echonest.drop(np.nan, inplace = True)"
   ]
  },
  {
   "cell_type": "code",
   "execution_count": 15,
   "metadata": {},
   "outputs": [],
   "source": [
    "echonest_main = echonest.iloc[:,:8]"
   ]
  },
  {
   "cell_type": "code",
   "execution_count": 18,
   "metadata": {},
   "outputs": [
    {
     "data": {
      "text/plain": [
       "Index(['acousticness', 'danceability', 'energy', 'instrumentalness',\n",
       "       'liveness', 'speechiness', 'tempo', 'valence'],\n",
       "      dtype='object', name=1)"
      ]
     },
     "execution_count": 18,
     "metadata": {},
     "output_type": "execute_result"
    }
   ],
   "source": [
    "echonest_main.columns"
   ]
  },
  {
   "cell_type": "code",
   "execution_count": null,
   "metadata": {
    "collapsed": true
   },
   "outputs": [],
   "source": []
  },
  {
   "cell_type": "code",
   "execution_count": 19,
   "metadata": {
    "collapsed": true
   },
   "outputs": [],
   "source": [
    "new_inner = pd.concat([features, echonest_main], axis = 1, join = \"inner\")"
   ]
  },
  {
   "cell_type": "code",
   "execution_count": 20,
   "metadata": {},
   "outputs": [
    {
     "data": {
      "text/html": [
       "<div>\n",
       "<style>\n",
       "    .dataframe thead tr:only-child th {\n",
       "        text-align: right;\n",
       "    }\n",
       "\n",
       "    .dataframe thead th {\n",
       "        text-align: left;\n",
       "    }\n",
       "\n",
       "    .dataframe tbody tr th {\n",
       "        vertical-align: top;\n",
       "    }\n",
       "</style>\n",
       "<table border=\"1\" class=\"dataframe\">\n",
       "  <thead>\n",
       "    <tr style=\"text-align: right;\">\n",
       "      <th></th>\n",
       "      <th>chroma_cens</th>\n",
       "      <th>chroma_cens.1</th>\n",
       "      <th>chroma_cens.2</th>\n",
       "      <th>chroma_cens.3</th>\n",
       "      <th>chroma_cens.4</th>\n",
       "      <th>chroma_cens.5</th>\n",
       "      <th>chroma_cens.6</th>\n",
       "      <th>chroma_cens.7</th>\n",
       "      <th>chroma_cens.8</th>\n",
       "      <th>chroma_cens.9</th>\n",
       "      <th>...</th>\n",
       "      <th>zcr.5</th>\n",
       "      <th>zcr.6</th>\n",
       "      <th>acousticness</th>\n",
       "      <th>danceability</th>\n",
       "      <th>energy</th>\n",
       "      <th>instrumentalness</th>\n",
       "      <th>liveness</th>\n",
       "      <th>speechiness</th>\n",
       "      <th>tempo</th>\n",
       "      <th>valence</th>\n",
       "    </tr>\n",
       "  </thead>\n",
       "  <tbody>\n",
       "    <tr>\n",
       "      <th>2</th>\n",
       "      <td>7.1806526184e+00</td>\n",
       "      <td>5.2303090096e+00</td>\n",
       "      <td>2.4932080507e-01</td>\n",
       "      <td>1.3476201296e+00</td>\n",
       "      <td>1.4824777842e+00</td>\n",
       "      <td>5.3137123585e-01</td>\n",
       "      <td>1.4815930128e+00</td>\n",
       "      <td>2.6914546490e+00</td>\n",
       "      <td>8.6686819792e-01</td>\n",
       "      <td>1.3412306309e+00</td>\n",
       "      <td>...</td>\n",
       "      <td>2.0898721218e+00</td>\n",
       "      <td>6.1448108405e-02</td>\n",
       "      <td>0.4166752327</td>\n",
       "      <td>0.6758939853</td>\n",
       "      <td>0.6344762684</td>\n",
       "      <td>0.0106280683</td>\n",
       "      <td>0.1776465712</td>\n",
       "      <td>0.1593100648</td>\n",
       "      <td>165.9220000000</td>\n",
       "      <td>0.5766609880</td>\n",
       "    </tr>\n",
       "    <tr>\n",
       "      <th>3</th>\n",
       "      <td>1.8889633417e+00</td>\n",
       "      <td>7.6053929329e-01</td>\n",
       "      <td>3.4529656172e-01</td>\n",
       "      <td>2.2952005863e+00</td>\n",
       "      <td>1.6540306807e+00</td>\n",
       "      <td>6.7592434585e-02</td>\n",
       "      <td>1.3668476343e+00</td>\n",
       "      <td>1.0540937185e+00</td>\n",
       "      <td>1.0810308903e-01</td>\n",
       "      <td>6.1918509007e-01</td>\n",
       "      <td>...</td>\n",
       "      <td>1.7167237997e+00</td>\n",
       "      <td>6.9330163300e-02</td>\n",
       "      <td>0.3744077685</td>\n",
       "      <td>0.5286430621</td>\n",
       "      <td>0.8174611317</td>\n",
       "      <td>0.0018511032</td>\n",
       "      <td>0.1058799438</td>\n",
       "      <td>0.4618181276</td>\n",
       "      <td>126.9570000000</td>\n",
       "      <td>0.2692402421</td>\n",
       "    </tr>\n",
       "    <tr>\n",
       "      <th>5</th>\n",
       "      <td>5.2756297588e-01</td>\n",
       "      <td>-7.7654317021e-02</td>\n",
       "      <td>-2.7961030602e-01</td>\n",
       "      <td>6.8588310480e-01</td>\n",
       "      <td>1.9375696182e+00</td>\n",
       "      <td>8.8083887100e-01</td>\n",
       "      <td>-9.2319184542e-01</td>\n",
       "      <td>-9.2723226547e-01</td>\n",
       "      <td>6.6661673784e-01</td>\n",
       "      <td>1.0385463238e+00</td>\n",
       "      <td>...</td>\n",
       "      <td>2.1933031082e+00</td>\n",
       "      <td>4.4860601425e-02</td>\n",
       "      <td>0.0435668989</td>\n",
       "      <td>0.7455658702</td>\n",
       "      <td>0.7014699916</td>\n",
       "      <td>0.0006967990</td>\n",
       "      <td>0.3731433124</td>\n",
       "      <td>0.1245953419</td>\n",
       "      <td>100.2600000000</td>\n",
       "      <td>0.6216612236</td>\n",
       "    </tr>\n",
       "    <tr>\n",
       "      <th>10</th>\n",
       "      <td>3.7022454739e+00</td>\n",
       "      <td>-2.9119303823e-01</td>\n",
       "      <td>2.1967420578e+00</td>\n",
       "      <td>-2.3444947600e-01</td>\n",
       "      <td>1.3673638105e+00</td>\n",
       "      <td>9.9841135740e-01</td>\n",
       "      <td>1.7706941366e+00</td>\n",
       "      <td>1.6045658588e+00</td>\n",
       "      <td>5.2121698856e-01</td>\n",
       "      <td>1.9823863506e+00</td>\n",
       "      <td>...</td>\n",
       "      <td>3.5423245430e+00</td>\n",
       "      <td>4.0800448507e-02</td>\n",
       "      <td>0.9516699648</td>\n",
       "      <td>0.6581786543</td>\n",
       "      <td>0.9245251615</td>\n",
       "      <td>0.9654270154</td>\n",
       "      <td>0.1154738842</td>\n",
       "      <td>0.0329852191</td>\n",
       "      <td>111.5620000000</td>\n",
       "      <td>0.9635898919</td>\n",
       "    </tr>\n",
       "    <tr>\n",
       "      <th>134</th>\n",
       "      <td>9.1844475269e-01</td>\n",
       "      <td>6.7414724827e-01</td>\n",
       "      <td>5.7781827450e-01</td>\n",
       "      <td>1.2811170816e+00</td>\n",
       "      <td>9.3374562263e-01</td>\n",
       "      <td>7.8176945448e-02</td>\n",
       "      <td>1.1992042065e+00</td>\n",
       "      <td>-1.7522314191e-01</td>\n",
       "      <td>9.2548191547e-01</td>\n",
       "      <td>1.4385091066e+00</td>\n",
       "      <td>...</td>\n",
       "      <td>1.8061059713e+00</td>\n",
       "      <td>5.4622855037e-02</td>\n",
       "      <td>0.4522173071</td>\n",
       "      <td>0.5132380502</td>\n",
       "      <td>0.5604099311</td>\n",
       "      <td>0.0194426943</td>\n",
       "      <td>0.0965666940</td>\n",
       "      <td>0.5255193792</td>\n",
       "      <td>114.2900000000</td>\n",
       "      <td>0.8940722715</td>\n",
       "    </tr>\n",
       "  </tbody>\n",
       "</table>\n",
       "<p>5 rows × 526 columns</p>\n",
       "</div>"
      ],
      "text/plain": [
       "          chroma_cens      chroma_cens.1      chroma_cens.2  \\\n",
       "2    7.1806526184e+00   5.2303090096e+00   2.4932080507e-01   \n",
       "3    1.8889633417e+00   7.6053929329e-01   3.4529656172e-01   \n",
       "5    5.2756297588e-01  -7.7654317021e-02  -2.7961030602e-01   \n",
       "10   3.7022454739e+00  -2.9119303823e-01   2.1967420578e+00   \n",
       "134  9.1844475269e-01   6.7414724827e-01   5.7781827450e-01   \n",
       "\n",
       "         chroma_cens.3     chroma_cens.4     chroma_cens.5      chroma_cens.6  \\\n",
       "2     1.3476201296e+00  1.4824777842e+00  5.3137123585e-01   1.4815930128e+00   \n",
       "3     2.2952005863e+00  1.6540306807e+00  6.7592434585e-02   1.3668476343e+00   \n",
       "5     6.8588310480e-01  1.9375696182e+00  8.8083887100e-01  -9.2319184542e-01   \n",
       "10   -2.3444947600e-01  1.3673638105e+00  9.9841135740e-01   1.7706941366e+00   \n",
       "134   1.2811170816e+00  9.3374562263e-01  7.8176945448e-02   1.1992042065e+00   \n",
       "\n",
       "         chroma_cens.7     chroma_cens.8     chroma_cens.9      ...       \\\n",
       "2     2.6914546490e+00  8.6686819792e-01  1.3412306309e+00      ...        \n",
       "3     1.0540937185e+00  1.0810308903e-01  6.1918509007e-01      ...        \n",
       "5    -9.2723226547e-01  6.6661673784e-01  1.0385463238e+00      ...        \n",
       "10    1.6045658588e+00  5.2121698856e-01  1.9823863506e+00      ...        \n",
       "134  -1.7522314191e-01  9.2548191547e-01  1.4385091066e+00      ...        \n",
       "\n",
       "                zcr.5             zcr.6  acousticness  danceability  \\\n",
       "2    2.0898721218e+00  6.1448108405e-02  0.4166752327  0.6758939853   \n",
       "3    1.7167237997e+00  6.9330163300e-02  0.3744077685  0.5286430621   \n",
       "5    2.1933031082e+00  4.4860601425e-02  0.0435668989  0.7455658702   \n",
       "10   3.5423245430e+00  4.0800448507e-02  0.9516699648  0.6581786543   \n",
       "134  1.8061059713e+00  5.4622855037e-02  0.4522173071  0.5132380502   \n",
       "\n",
       "           energy instrumentalness      liveness   speechiness  \\\n",
       "2    0.6344762684     0.0106280683  0.1776465712  0.1593100648   \n",
       "3    0.8174611317     0.0018511032  0.1058799438  0.4618181276   \n",
       "5    0.7014699916     0.0006967990  0.3731433124  0.1245953419   \n",
       "10   0.9245251615     0.9654270154  0.1154738842  0.0329852191   \n",
       "134  0.5604099311     0.0194426943  0.0965666940  0.5255193792   \n",
       "\n",
       "              tempo       valence  \n",
       "2    165.9220000000  0.5766609880  \n",
       "3    126.9570000000  0.2692402421  \n",
       "5    100.2600000000  0.6216612236  \n",
       "10   111.5620000000  0.9635898919  \n",
       "134  114.2900000000  0.8940722715  \n",
       "\n",
       "[5 rows x 526 columns]"
      ]
     },
     "execution_count": 20,
     "metadata": {},
     "output_type": "execute_result"
    }
   ],
   "source": [
    "new_inner.head()"
   ]
  },
  {
   "cell_type": "code",
   "execution_count": 25,
   "metadata": {
    "collapsed": true
   },
   "outputs": [],
   "source": [
    "# from sklearn.datasets import make_multilabel_classification\n",
    "\n",
    "# # this will generate a random multi-label dataset\n",
    "# x, y = make_multilabel_classification(sparse = True, n_labels = 8, return_indicator = 'sparse', allow_unlabeled = False)"
   ]
  },
  {
   "cell_type": "code",
   "execution_count": 26,
   "metadata": {},
   "outputs": [],
   "source": [
    "# y"
   ]
  },
  {
   "cell_type": "code",
   "execution_count": null,
   "metadata": {
    "collapsed": true
   },
   "outputs": [],
   "source": []
  },
  {
   "cell_type": "code",
   "execution_count": 27,
   "metadata": {
    "collapsed": true
   },
   "outputs": [],
   "source": [
    "# from sklearn.neural_network import MLPRegressor\n",
    "# clf = MLPRegressor(solver='lbfgs', alpha=1e-5,\n",
    "#                    hidden_layer_sizes=(5, 2), random_state=1)"
   ]
  },
  {
   "cell_type": "code",
   "execution_count": 28,
   "metadata": {},
   "outputs": [],
   "source": [
    "# clf.fit(x,y)\n"
   ]
  },
  {
   "cell_type": "code",
   "execution_count": 29,
   "metadata": {
    "collapsed": true
   },
   "outputs": [],
   "source": [
    "# clf.predict(x)"
   ]
  },
  {
   "cell_type": "code",
   "execution_count": null,
   "metadata": {
    "collapsed": true
   },
   "outputs": [],
   "source": []
  },
  {
   "cell_type": "code",
   "execution_count": 37,
   "metadata": {
    "collapsed": true
   },
   "outputs": [],
   "source": [
    "### Since label encoding is one hot encoding training each dataset against each label"
   ]
  },
  {
   "cell_type": "code",
   "execution_count": 30,
   "metadata": {
    "collapsed": true
   },
   "outputs": [],
   "source": [
    "## Acousticness\n",
    "df1 = pd.concat([features, echonest_main.iloc[:,0]], axis = 1, join = \"inner\")"
   ]
  },
  {
   "cell_type": "code",
   "execution_count": 31,
   "metadata": {},
   "outputs": [
    {
     "data": {
      "text/plain": [
       "Index(['chroma_cens', 'chroma_cens.1', 'chroma_cens.2', 'chroma_cens.3',\n",
       "       'chroma_cens.4', 'chroma_cens.5', 'chroma_cens.6', 'chroma_cens.7',\n",
       "       'chroma_cens.8', 'chroma_cens.9',\n",
       "       ...\n",
       "       'tonnetz.40', 'tonnetz.41', 'zcr', 'zcr.1', 'zcr.2', 'zcr.3', 'zcr.4',\n",
       "       'zcr.5', 'zcr.6', 'acousticness'],\n",
       "      dtype='object', length=519)"
      ]
     },
     "execution_count": 31,
     "metadata": {},
     "output_type": "execute_result"
    }
   ],
   "source": [
    "df1.columns"
   ]
  },
  {
   "cell_type": "code",
   "execution_count": 32,
   "metadata": {
    "collapsed": true
   },
   "outputs": [],
   "source": [
    "## Danceability\n",
    "df2 = pd.concat([features, echonest_main.iloc[:,1]], axis = 1, join = \"inner\")"
   ]
  },
  {
   "cell_type": "code",
   "execution_count": 33,
   "metadata": {},
   "outputs": [
    {
     "data": {
      "text/plain": [
       "Index(['chroma_cens', 'chroma_cens.1', 'chroma_cens.2', 'chroma_cens.3',\n",
       "       'chroma_cens.4', 'chroma_cens.5', 'chroma_cens.6', 'chroma_cens.7',\n",
       "       'chroma_cens.8', 'chroma_cens.9',\n",
       "       ...\n",
       "       'tonnetz.40', 'tonnetz.41', 'zcr', 'zcr.1', 'zcr.2', 'zcr.3', 'zcr.4',\n",
       "       'zcr.5', 'zcr.6', 'danceability'],\n",
       "      dtype='object', length=519)"
      ]
     },
     "execution_count": 33,
     "metadata": {},
     "output_type": "execute_result"
    }
   ],
   "source": [
    "df2.columns"
   ]
  },
  {
   "cell_type": "code",
   "execution_count": 34,
   "metadata": {
    "collapsed": true
   },
   "outputs": [],
   "source": [
    "## Energy\n",
    "df3 = pd.concat([features, echonest_main.iloc[:,2]], axis = 1, join = \"inner\")"
   ]
  },
  {
   "cell_type": "code",
   "execution_count": 35,
   "metadata": {},
   "outputs": [
    {
     "data": {
      "text/plain": [
       "Index(['chroma_cens', 'chroma_cens.1', 'chroma_cens.2', 'chroma_cens.3',\n",
       "       'chroma_cens.4', 'chroma_cens.5', 'chroma_cens.6', 'chroma_cens.7',\n",
       "       'chroma_cens.8', 'chroma_cens.9',\n",
       "       ...\n",
       "       'tonnetz.40', 'tonnetz.41', 'zcr', 'zcr.1', 'zcr.2', 'zcr.3', 'zcr.4',\n",
       "       'zcr.5', 'zcr.6', 'energy'],\n",
       "      dtype='object', length=519)"
      ]
     },
     "execution_count": 35,
     "metadata": {},
     "output_type": "execute_result"
    }
   ],
   "source": [
    "df3.columns"
   ]
  },
  {
   "cell_type": "code",
   "execution_count": 36,
   "metadata": {
    "collapsed": true
   },
   "outputs": [],
   "source": [
    "## Instrumentalness\n",
    "df4 = pd.concat([features, echonest_main.iloc[:,3]], axis = 1, join = \"inner\")"
   ]
  },
  {
   "cell_type": "code",
   "execution_count": 37,
   "metadata": {},
   "outputs": [
    {
     "data": {
      "text/plain": [
       "Index(['chroma_cens', 'chroma_cens.1', 'chroma_cens.2', 'chroma_cens.3',\n",
       "       'chroma_cens.4', 'chroma_cens.5', 'chroma_cens.6', 'chroma_cens.7',\n",
       "       'chroma_cens.8', 'chroma_cens.9',\n",
       "       ...\n",
       "       'tonnetz.40', 'tonnetz.41', 'zcr', 'zcr.1', 'zcr.2', 'zcr.3', 'zcr.4',\n",
       "       'zcr.5', 'zcr.6', 'instrumentalness'],\n",
       "      dtype='object', length=519)"
      ]
     },
     "execution_count": 37,
     "metadata": {},
     "output_type": "execute_result"
    }
   ],
   "source": [
    "df4.columns"
   ]
  },
  {
   "cell_type": "code",
   "execution_count": 38,
   "metadata": {
    "collapsed": true
   },
   "outputs": [],
   "source": [
    "## Liveness\n",
    "df5 = pd.concat([features, echonest_main.iloc[:,4]], axis = 1, join = \"inner\")"
   ]
  },
  {
   "cell_type": "code",
   "execution_count": 39,
   "metadata": {},
   "outputs": [
    {
     "data": {
      "text/plain": [
       "Index(['chroma_cens', 'chroma_cens.1', 'chroma_cens.2', 'chroma_cens.3',\n",
       "       'chroma_cens.4', 'chroma_cens.5', 'chroma_cens.6', 'chroma_cens.7',\n",
       "       'chroma_cens.8', 'chroma_cens.9',\n",
       "       ...\n",
       "       'tonnetz.40', 'tonnetz.41', 'zcr', 'zcr.1', 'zcr.2', 'zcr.3', 'zcr.4',\n",
       "       'zcr.5', 'zcr.6', 'liveness'],\n",
       "      dtype='object', length=519)"
      ]
     },
     "execution_count": 39,
     "metadata": {},
     "output_type": "execute_result"
    }
   ],
   "source": [
    "df5.columns"
   ]
  },
  {
   "cell_type": "code",
   "execution_count": 40,
   "metadata": {
    "collapsed": true
   },
   "outputs": [],
   "source": [
    "## Speechiness\n",
    "df6 = pd.concat([features, echonest_main.iloc[:,5]], axis = 1, join = \"inner\")"
   ]
  },
  {
   "cell_type": "code",
   "execution_count": 41,
   "metadata": {},
   "outputs": [
    {
     "data": {
      "text/plain": [
       "Index(['chroma_cens', 'chroma_cens.1', 'chroma_cens.2', 'chroma_cens.3',\n",
       "       'chroma_cens.4', 'chroma_cens.5', 'chroma_cens.6', 'chroma_cens.7',\n",
       "       'chroma_cens.8', 'chroma_cens.9',\n",
       "       ...\n",
       "       'tonnetz.40', 'tonnetz.41', 'zcr', 'zcr.1', 'zcr.2', 'zcr.3', 'zcr.4',\n",
       "       'zcr.5', 'zcr.6', 'speechiness'],\n",
       "      dtype='object', length=519)"
      ]
     },
     "execution_count": 41,
     "metadata": {},
     "output_type": "execute_result"
    }
   ],
   "source": [
    "df6.columns"
   ]
  },
  {
   "cell_type": "code",
   "execution_count": 42,
   "metadata": {
    "collapsed": true
   },
   "outputs": [],
   "source": [
    "## Tempo\n",
    "df7 = pd.concat([features, echonest_main.iloc[:,6]], axis = 1, join = \"inner\")"
   ]
  },
  {
   "cell_type": "code",
   "execution_count": 43,
   "metadata": {},
   "outputs": [
    {
     "data": {
      "text/plain": [
       "Index(['chroma_cens', 'chroma_cens.1', 'chroma_cens.2', 'chroma_cens.3',\n",
       "       'chroma_cens.4', 'chroma_cens.5', 'chroma_cens.6', 'chroma_cens.7',\n",
       "       'chroma_cens.8', 'chroma_cens.9',\n",
       "       ...\n",
       "       'tonnetz.40', 'tonnetz.41', 'zcr', 'zcr.1', 'zcr.2', 'zcr.3', 'zcr.4',\n",
       "       'zcr.5', 'zcr.6', 'tempo'],\n",
       "      dtype='object', length=519)"
      ]
     },
     "execution_count": 43,
     "metadata": {},
     "output_type": "execute_result"
    }
   ],
   "source": [
    "df7.columns "
   ]
  },
  {
   "cell_type": "code",
   "execution_count": 44,
   "metadata": {
    "collapsed": true
   },
   "outputs": [],
   "source": [
    "## Valence\n",
    "df8 = pd.concat([features, echonest_main.iloc[:,7]], axis = 1, join = \"inner\")"
   ]
  },
  {
   "cell_type": "code",
   "execution_count": 45,
   "metadata": {},
   "outputs": [
    {
     "data": {
      "text/plain": [
       "Index(['chroma_cens', 'chroma_cens.1', 'chroma_cens.2', 'chroma_cens.3',\n",
       "       'chroma_cens.4', 'chroma_cens.5', 'chroma_cens.6', 'chroma_cens.7',\n",
       "       'chroma_cens.8', 'chroma_cens.9',\n",
       "       ...\n",
       "       'tonnetz.40', 'tonnetz.41', 'zcr', 'zcr.1', 'zcr.2', 'zcr.3', 'zcr.4',\n",
       "       'zcr.5', 'zcr.6', 'valence'],\n",
       "      dtype='object', length=519)"
      ]
     },
     "execution_count": 45,
     "metadata": {},
     "output_type": "execute_result"
    }
   ],
   "source": [
    "df8.columns"
   ]
  },
  {
   "cell_type": "code",
   "execution_count": null,
   "metadata": {
    "collapsed": true
   },
   "outputs": [],
   "source": []
  },
  {
   "cell_type": "code",
   "execution_count": null,
   "metadata": {
    "collapsed": true
   },
   "outputs": [],
   "source": []
  },
  {
   "cell_type": "code",
   "execution_count": null,
   "metadata": {
    "collapsed": true
   },
   "outputs": [],
   "source": []
  },
  {
   "cell_type": "code",
   "execution_count": 46,
   "metadata": {},
   "outputs": [
    {
     "name": "stderr",
     "output_type": "stream",
     "text": [
      "C:\\Users\\spari\\Anaconda3\\lib\\site-packages\\h5py\\__init__.py:34: FutureWarning: Conversion of the second argument of issubdtype from `float` to `np.floating` is deprecated. In future, it will be treated as `np.float64 == np.dtype(float).type`.\n",
      "  from ._conv import register_converters as _register_converters\n",
      "Using TensorFlow backend.\n"
     ]
    }
   ],
   "source": [
    "import keras\n",
    "from keras.models import Sequential\n",
    "from keras.layers import Flatten, Dense, Lambda, Dropout\n",
    "from keras.layers import Conv1D, Activation, MaxPooling2D, Dropout, Flatten, Dense\n",
    "\n",
    "from keras.layers import Input, Dense\n",
    "from keras.models import Model\n",
    "from keras.layers import Dense, Dropout, Flatten\n",
    "from keras.layers.convolutional import Convolution2D\n",
    "from keras.layers.convolutional import MaxPooling2D, ZeroPadding2D\n",
    "from keras.layers.normalization import BatchNormalization\n",
    "from keras.layers.advanced_activations import ELU\n",
    "from keras.utils.data_utils import get_file\n",
    "from keras.layers import Input, Dense"
   ]
  },
  {
   "cell_type": "code",
   "execution_count": 157,
   "metadata": {},
   "outputs": [],
   "source": [
    "def CNN_model(df):\n",
    "    model = Sequential()\n",
    "    \n",
    "    model.add(Conv1D(64,3,border_mode='same',input_shape=(df.shape[1],2),  name='conv_1'))  \n",
    "    model.add(BatchNormalization(mode=0, name='bn1'))\n",
    "    model.add(Activation('relu'))\n",
    "    # model.add(MaxPooling1D(pool_size=4,name='pool1'))\n",
    "\n",
    "    model.add(Conv1D(64,3, border_mode='same',name='conv_2'))  \n",
    "    model.add(BatchNormalization( mode=0, name='bn2'))\n",
    "    model.add(Activation('relu'))\n",
    "    # model.add(MaxPooling1D(pool_size=4,name='pool2'))\n",
    "\n",
    "    model.add(Conv1D(64,3,border_mode='same',name='conv_3'))  \n",
    "    model.add(BatchNormalization( mode=0, name='bn3'))\n",
    "    model.add(Activation('relu'))\n",
    "    # model.add(MaxPooling1D(pool_size=4,name='pool3'))\n",
    "\n",
    "    model.add(Conv1D(64,3, border_mode='same',name='conv_4'))  \n",
    "    model.add(BatchNormalization( mode=0, name='bn4'))\n",
    "    model.add(Activation('relu'))\n",
    "    # model.add(MaxPooling1D(pool_size=2,name='pool4'))\n",
    "\n",
    "    model.add(Conv1D(64,3, border_mode='same',name='conv_5'))  \n",
    "    model.add(BatchNormalization( mode=0, name='bn5'))\n",
    "    model.add(Activation('relu'))\n",
    "    # model.add(MaxPooling1D(pool_size=2,name='pool5'))\n",
    "\n",
    "\n",
    "    model.add(Flatten())\n",
    "    model.add(Dense(1, activation='sigmoid', name='output'))\n",
    "\n",
    "    return model"
   ]
  },
  {
   "cell_type": "code",
   "execution_count": 142,
   "metadata": {},
   "outputs": [],
   "source": [
    "# df1.isnull().sum()"
   ]
  },
  {
   "cell_type": "code",
   "execution_count": 158,
   "metadata": {},
   "outputs": [
    {
     "ename": "AttributeError",
     "evalue": "'DataFrame' object has no attribute 'acousticness'",
     "output_type": "error",
     "traceback": [
      "\u001b[1;31m---------------------------------------------------------------------------\u001b[0m",
      "\u001b[1;31mAttributeError\u001b[0m                            Traceback (most recent call last)",
      "\u001b[1;32m<ipython-input-158-efe14a95d86b>\u001b[0m in \u001b[0;36m<module>\u001b[1;34m()\u001b[0m\n\u001b[0;32m      1\u001b[0m \u001b[1;31m## DF1\u001b[0m\u001b[1;33m\u001b[0m\u001b[1;33m\u001b[0m\u001b[0m\n\u001b[1;32m----> 2\u001b[1;33m \u001b[0my1\u001b[0m \u001b[1;33m=\u001b[0m \u001b[0mdf1\u001b[0m\u001b[1;33m.\u001b[0m\u001b[0macousticness\u001b[0m\u001b[1;33m\u001b[0m\u001b[0m\n\u001b[0m\u001b[0;32m      3\u001b[0m \u001b[1;32mdel\u001b[0m \u001b[0mdf1\u001b[0m\u001b[1;33m[\u001b[0m\u001b[1;34m'acousticness'\u001b[0m\u001b[1;33m]\u001b[0m\u001b[1;33m\u001b[0m\u001b[0m\n\u001b[0;32m      4\u001b[0m \u001b[0mx1\u001b[0m \u001b[1;33m=\u001b[0m \u001b[0mdf1\u001b[0m\u001b[1;33m\u001b[0m\u001b[0m\n",
      "\u001b[1;32m~\\Anaconda3\\lib\\site-packages\\pandas\\core\\generic.py\u001b[0m in \u001b[0;36m__getattr__\u001b[1;34m(self, name)\u001b[0m\n\u001b[0;32m   3079\u001b[0m             \u001b[1;32mif\u001b[0m \u001b[0mname\u001b[0m \u001b[1;32min\u001b[0m \u001b[0mself\u001b[0m\u001b[1;33m.\u001b[0m\u001b[0m_info_axis\u001b[0m\u001b[1;33m:\u001b[0m\u001b[1;33m\u001b[0m\u001b[0m\n\u001b[0;32m   3080\u001b[0m                 \u001b[1;32mreturn\u001b[0m \u001b[0mself\u001b[0m\u001b[1;33m[\u001b[0m\u001b[0mname\u001b[0m\u001b[1;33m]\u001b[0m\u001b[1;33m\u001b[0m\u001b[0m\n\u001b[1;32m-> 3081\u001b[1;33m             \u001b[1;32mreturn\u001b[0m \u001b[0mobject\u001b[0m\u001b[1;33m.\u001b[0m\u001b[0m__getattribute__\u001b[0m\u001b[1;33m(\u001b[0m\u001b[0mself\u001b[0m\u001b[1;33m,\u001b[0m \u001b[0mname\u001b[0m\u001b[1;33m)\u001b[0m\u001b[1;33m\u001b[0m\u001b[0m\n\u001b[0m\u001b[0;32m   3082\u001b[0m \u001b[1;33m\u001b[0m\u001b[0m\n\u001b[0;32m   3083\u001b[0m     \u001b[1;32mdef\u001b[0m \u001b[0m__setattr__\u001b[0m\u001b[1;33m(\u001b[0m\u001b[0mself\u001b[0m\u001b[1;33m,\u001b[0m \u001b[0mname\u001b[0m\u001b[1;33m,\u001b[0m \u001b[0mvalue\u001b[0m\u001b[1;33m)\u001b[0m\u001b[1;33m:\u001b[0m\u001b[1;33m\u001b[0m\u001b[0m\n",
      "\u001b[1;31mAttributeError\u001b[0m: 'DataFrame' object has no attribute 'acousticness'"
     ]
    }
   ],
   "source": [
    "## DF1\n",
    "y1 = df1.acousticness\n",
    "del df1['acousticness']\n",
    "x1 = df1"
   ]
  },
  {
   "cell_type": "code",
   "execution_count": 159,
   "metadata": {},
   "outputs": [
    {
     "data": {
      "text/plain": [
       "Index(['chroma_cens', 'chroma_cens.1', 'chroma_cens.2', 'chroma_cens.3',\n",
       "       'chroma_cens.4', 'chroma_cens.5', 'chroma_cens.6', 'chroma_cens.7',\n",
       "       'chroma_cens.8', 'chroma_cens.9',\n",
       "       ...\n",
       "       'tonnetz.39', 'tonnetz.40', 'tonnetz.41', 'zcr', 'zcr.1', 'zcr.2',\n",
       "       'zcr.3', 'zcr.4', 'zcr.5', 'zcr.6'],\n",
       "      dtype='object', length=518)"
      ]
     },
     "execution_count": 159,
     "metadata": {},
     "output_type": "execute_result"
    }
   ],
   "source": [
    "x1.columns"
   ]
  },
  {
   "cell_type": "code",
   "execution_count": 160,
   "metadata": {},
   "outputs": [],
   "source": [
    "from sklearn.model_selection import train_test_split\n",
    "x1_train, x1_test, y1_train, y1_test = train_test_split( x1, y1, test_size=0.33, random_state=42)\n"
   ]
  },
  {
   "cell_type": "code",
   "execution_count": 161,
   "metadata": {
    "collapsed": true
   },
   "outputs": [],
   "source": [
    "x1_train = np.array(x1_train)"
   ]
  },
  {
   "cell_type": "code",
   "execution_count": 162,
   "metadata": {},
   "outputs": [
    {
     "data": {
      "text/plain": [
       "(8796, 518)"
      ]
     },
     "execution_count": 162,
     "metadata": {},
     "output_type": "execute_result"
    }
   ],
   "source": [
    "x1_train.shape"
   ]
  },
  {
   "cell_type": "code",
   "execution_count": 163,
   "metadata": {},
   "outputs": [
    {
     "name": "stderr",
     "output_type": "stream",
     "text": [
      "C:\\Users\\spari\\Anaconda3\\lib\\site-packages\\ipykernel_launcher.py:4: UserWarning: Update your `Conv1D` call to the Keras 2 API: `Conv1D(64, 3, input_shape=(518, 2), name=\"conv_1\", padding=\"same\")`\n",
      "  after removing the cwd from sys.path.\n",
      "C:\\Users\\spari\\Anaconda3\\lib\\site-packages\\ipykernel_launcher.py:5: UserWarning: Update your `BatchNormalization` call to the Keras 2 API: `BatchNormalization(name=\"bn1\")`\n",
      "  \"\"\"\n",
      "C:\\Users\\spari\\Anaconda3\\lib\\site-packages\\ipykernel_launcher.py:9: UserWarning: Update your `Conv1D` call to the Keras 2 API: `Conv1D(64, 3, name=\"conv_2\", padding=\"same\")`\n",
      "  if __name__ == '__main__':\n",
      "C:\\Users\\spari\\Anaconda3\\lib\\site-packages\\ipykernel_launcher.py:10: UserWarning: Update your `BatchNormalization` call to the Keras 2 API: `BatchNormalization(name=\"bn2\")`\n",
      "  # Remove the CWD from sys.path while we load stuff.\n",
      "C:\\Users\\spari\\Anaconda3\\lib\\site-packages\\ipykernel_launcher.py:14: UserWarning: Update your `Conv1D` call to the Keras 2 API: `Conv1D(64, 3, name=\"conv_3\", padding=\"same\")`\n",
      "  \n",
      "C:\\Users\\spari\\Anaconda3\\lib\\site-packages\\ipykernel_launcher.py:15: UserWarning: Update your `BatchNormalization` call to the Keras 2 API: `BatchNormalization(name=\"bn3\")`\n",
      "  from ipykernel import kernelapp as app\n",
      "C:\\Users\\spari\\Anaconda3\\lib\\site-packages\\ipykernel_launcher.py:19: UserWarning: Update your `Conv1D` call to the Keras 2 API: `Conv1D(64, 3, name=\"conv_4\", padding=\"same\")`\n",
      "C:\\Users\\spari\\Anaconda3\\lib\\site-packages\\ipykernel_launcher.py:20: UserWarning: Update your `BatchNormalization` call to the Keras 2 API: `BatchNormalization(name=\"bn4\")`\n",
      "C:\\Users\\spari\\Anaconda3\\lib\\site-packages\\ipykernel_launcher.py:24: UserWarning: Update your `Conv1D` call to the Keras 2 API: `Conv1D(64, 3, name=\"conv_5\", padding=\"same\")`\n",
      "C:\\Users\\spari\\Anaconda3\\lib\\site-packages\\ipykernel_launcher.py:25: UserWarning: Update your `BatchNormalization` call to the Keras 2 API: `BatchNormalization(name=\"bn5\")`\n"
     ]
    }
   ],
   "source": [
    "df1_model = CNN_model(x1_train)"
   ]
  },
  {
   "cell_type": "code",
   "execution_count": 164,
   "metadata": {},
   "outputs": [],
   "source": [
    "from keras.optimizers import SGD\n",
    "from keras.utils import np_utils\n",
    "sgd = SGD(lr=0.01, nesterov=True, decay=1e-6, momentum=0.9)\n",
    "df1_model.compile(loss='categorical_crossentropy',optimizer=sgd,metrics=['accuracy'])"
   ]
  },
  {
   "cell_type": "code",
   "execution_count": 165,
   "metadata": {},
   "outputs": [
    {
     "data": {
      "text/plain": [
       "(8796, 518)"
      ]
     },
     "execution_count": 165,
     "metadata": {},
     "output_type": "execute_result"
    }
   ],
   "source": [
    "x1_train.shape"
   ]
  },
  {
   "cell_type": "code",
   "execution_count": null,
   "metadata": {},
   "outputs": [],
   "source": [
    "x1_trainnn = x1_train.reshape((-1, x1_train.shape[1], 2))"
   ]
  },
  {
   "cell_type": "code",
   "execution_count": null,
   "metadata": {
    "collapsed": true
   },
   "outputs": [],
   "source": []
  },
  {
   "cell_type": "code",
   "execution_count": 152,
   "metadata": {},
   "outputs": [
    {
     "data": {
      "text/plain": [
       "(4398, 518, 2)"
      ]
     },
     "execution_count": 152,
     "metadata": {},
     "output_type": "execute_result"
    }
   ],
   "source": [
    "x1_trainnn.shape"
   ]
  },
  {
   "cell_type": "code",
   "execution_count": 156,
   "metadata": {},
   "outputs": [
    {
     "ename": "ValueError",
     "evalue": "Error when checking target: expected output to have shape (50,) but got array with shape (1,)",
     "output_type": "error",
     "traceback": [
      "\u001b[1;31m---------------------------------------------------------------------------\u001b[0m",
      "\u001b[1;31mValueError\u001b[0m                                Traceback (most recent call last)",
      "\u001b[1;32m<ipython-input-156-017781df82a8>\u001b[0m in \u001b[0;36m<module>\u001b[1;34m()\u001b[0m\n\u001b[1;32m----> 1\u001b[1;33m \u001b[0mdf1_model\u001b[0m\u001b[1;33m.\u001b[0m\u001b[0mfit\u001b[0m\u001b[1;33m(\u001b[0m\u001b[0mx1_trainnn\u001b[0m\u001b[1;33m,\u001b[0m\u001b[0my1_train\u001b[0m\u001b[1;33m)\u001b[0m\u001b[1;33m\u001b[0m\u001b[0m\n\u001b[0m",
      "\u001b[1;32m~\\Anaconda3\\lib\\site-packages\\keras\\models.py\u001b[0m in \u001b[0;36mfit\u001b[1;34m(self, x, y, batch_size, epochs, verbose, callbacks, validation_split, validation_data, shuffle, class_weight, sample_weight, initial_epoch, steps_per_epoch, validation_steps, **kwargs)\u001b[0m\n\u001b[0;32m    961\u001b[0m                               \u001b[0minitial_epoch\u001b[0m\u001b[1;33m=\u001b[0m\u001b[0minitial_epoch\u001b[0m\u001b[1;33m,\u001b[0m\u001b[1;33m\u001b[0m\u001b[0m\n\u001b[0;32m    962\u001b[0m                               \u001b[0msteps_per_epoch\u001b[0m\u001b[1;33m=\u001b[0m\u001b[0msteps_per_epoch\u001b[0m\u001b[1;33m,\u001b[0m\u001b[1;33m\u001b[0m\u001b[0m\n\u001b[1;32m--> 963\u001b[1;33m                               validation_steps=validation_steps)\n\u001b[0m\u001b[0;32m    964\u001b[0m \u001b[1;33m\u001b[0m\u001b[0m\n\u001b[0;32m    965\u001b[0m     def evaluate(self, x=None, y=None,\n",
      "\u001b[1;32m~\\Anaconda3\\lib\\site-packages\\keras\\engine\\training.py\u001b[0m in \u001b[0;36mfit\u001b[1;34m(self, x, y, batch_size, epochs, verbose, callbacks, validation_split, validation_data, shuffle, class_weight, sample_weight, initial_epoch, steps_per_epoch, validation_steps, **kwargs)\u001b[0m\n\u001b[0;32m   1635\u001b[0m             \u001b[0msample_weight\u001b[0m\u001b[1;33m=\u001b[0m\u001b[0msample_weight\u001b[0m\u001b[1;33m,\u001b[0m\u001b[1;33m\u001b[0m\u001b[0m\n\u001b[0;32m   1636\u001b[0m             \u001b[0mclass_weight\u001b[0m\u001b[1;33m=\u001b[0m\u001b[0mclass_weight\u001b[0m\u001b[1;33m,\u001b[0m\u001b[1;33m\u001b[0m\u001b[0m\n\u001b[1;32m-> 1637\u001b[1;33m             batch_size=batch_size)\n\u001b[0m\u001b[0;32m   1638\u001b[0m         \u001b[1;31m# Prepare validation data.\u001b[0m\u001b[1;33m\u001b[0m\u001b[1;33m\u001b[0m\u001b[0m\n\u001b[0;32m   1639\u001b[0m         \u001b[0mdo_validation\u001b[0m \u001b[1;33m=\u001b[0m \u001b[1;32mFalse\u001b[0m\u001b[1;33m\u001b[0m\u001b[0m\n",
      "\u001b[1;32m~\\Anaconda3\\lib\\site-packages\\keras\\engine\\training.py\u001b[0m in \u001b[0;36m_standardize_user_data\u001b[1;34m(self, x, y, sample_weight, class_weight, check_array_lengths, batch_size)\u001b[0m\n\u001b[0;32m   1485\u001b[0m                                     \u001b[0moutput_shapes\u001b[0m\u001b[1;33m,\u001b[0m\u001b[1;33m\u001b[0m\u001b[0m\n\u001b[0;32m   1486\u001b[0m                                     \u001b[0mcheck_batch_axis\u001b[0m\u001b[1;33m=\u001b[0m\u001b[1;32mFalse\u001b[0m\u001b[1;33m,\u001b[0m\u001b[1;33m\u001b[0m\u001b[0m\n\u001b[1;32m-> 1487\u001b[1;33m                                     exception_prefix='target')\n\u001b[0m\u001b[0;32m   1488\u001b[0m         sample_weights = _standardize_sample_weights(sample_weight,\n\u001b[0;32m   1489\u001b[0m                                                      self._feed_output_names)\n",
      "\u001b[1;32m~\\Anaconda3\\lib\\site-packages\\keras\\engine\\training.py\u001b[0m in \u001b[0;36m_standardize_input_data\u001b[1;34m(data, names, shapes, check_batch_axis, exception_prefix)\u001b[0m\n\u001b[0;32m    121\u001b[0m                             \u001b[1;34m': expected '\u001b[0m \u001b[1;33m+\u001b[0m \u001b[0mnames\u001b[0m\u001b[1;33m[\u001b[0m\u001b[0mi\u001b[0m\u001b[1;33m]\u001b[0m \u001b[1;33m+\u001b[0m \u001b[1;34m' to have shape '\u001b[0m \u001b[1;33m+\u001b[0m\u001b[1;33m\u001b[0m\u001b[0m\n\u001b[0;32m    122\u001b[0m                             \u001b[0mstr\u001b[0m\u001b[1;33m(\u001b[0m\u001b[0mshape\u001b[0m\u001b[1;33m)\u001b[0m \u001b[1;33m+\u001b[0m \u001b[1;34m' but got array with shape '\u001b[0m \u001b[1;33m+\u001b[0m\u001b[1;33m\u001b[0m\u001b[0m\n\u001b[1;32m--> 123\u001b[1;33m                             str(data_shape))\n\u001b[0m\u001b[0;32m    124\u001b[0m     \u001b[1;32mreturn\u001b[0m \u001b[0mdata\u001b[0m\u001b[1;33m\u001b[0m\u001b[0m\n\u001b[0;32m    125\u001b[0m \u001b[1;33m\u001b[0m\u001b[0m\n",
      "\u001b[1;31mValueError\u001b[0m: Error when checking target: expected output to have shape (50,) but got array with shape (1,)"
     ]
    }
   ],
   "source": [
    "df1_model.fit(x1_trainnn,y1_train)"
   ]
  },
  {
   "cell_type": "code",
   "execution_count": 143,
   "metadata": {},
   "outputs": [
    {
     "ename": "NameError",
     "evalue": "name 'np_util' is not defined",
     "output_type": "error",
     "traceback": [
      "\u001b[1;31m---------------------------------------------------------------------------\u001b[0m",
      "\u001b[1;31mNameError\u001b[0m                                 Traceback (most recent call last)",
      "\u001b[1;32m<ipython-input-143-7e90de5ada4e>\u001b[0m in \u001b[0;36m<module>\u001b[1;34m()\u001b[0m\n\u001b[0;32m      1\u001b[0m \u001b[1;32mimport\u001b[0m \u001b[0mnp_utils\u001b[0m\u001b[1;33m\u001b[0m\u001b[0m\n\u001b[1;32m----> 2\u001b[1;33m \u001b[0my1_train\u001b[0m \u001b[1;33m=\u001b[0m \u001b[0mnp_util\u001b[0m\u001b[1;33m.\u001b[0m\u001b[0mto_categorical\u001b[0m\u001b[1;33m(\u001b[0m\u001b[0my1_train\u001b[0m\u001b[1;33m,\u001b[0m \u001b[1;36m40\u001b[0m\u001b[1;33m)\u001b[0m\u001b[1;33m\u001b[0m\u001b[0m\n\u001b[0m\u001b[0;32m      3\u001b[0m \u001b[1;31m# y_valid = np_utils.to_categorical(y_valid, nb_class)\u001b[0m\u001b[1;33m\u001b[0m\u001b[1;33m\u001b[0m\u001b[0m\n",
      "\u001b[1;31mNameError\u001b[0m: name 'np_util' is not defined"
     ]
    }
   ],
   "source": [
    "import np_utils\n",
    "y1_train = np_utils.to_categorical(y1_train, 40)\n",
    "# y_valid = np_utils.to_categorical(y_valid, nb_class)"
   ]
  }
 ],
 "metadata": {
  "kernelspec": {
   "display_name": "Python 3",
   "language": "python",
   "name": "python3"
  },
  "language_info": {
   "codemirror_mode": {
    "name": "ipython",
    "version": 3
   },
   "file_extension": ".py",
   "mimetype": "text/x-python",
   "name": "python",
   "nbconvert_exporter": "python",
   "pygments_lexer": "ipython3",
   "version": "3.6.4"
  }
 },
 "nbformat": 4,
 "nbformat_minor": 2
}
